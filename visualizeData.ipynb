{
 "cells": [
  {
   "cell_type": "code",
   "execution_count": 1,
   "metadata": {},
   "outputs": [
    {
     "data": {
      "text/html": [
       "<script type=\"text/javascript\">window.PlotlyConfig = {MathJaxConfig: 'local'};</script><script type=\"text/javascript\">if (window.MathJax) {MathJax.Hub.Config({SVG: {font: \"STIX-Web\"}});}</script><script>requirejs.config({paths: { 'plotly': ['https://cdn.plot.ly/plotly-latest.min']},});if(!window._Plotly) {require(['plotly'],function(plotly) {window._Plotly=plotly;});}</script>"
      ],
      "text/vnd.plotly.v1+html": [
       "<script type=\"text/javascript\">window.PlotlyConfig = {MathJaxConfig: 'local'};</script><script type=\"text/javascript\">if (window.MathJax) {MathJax.Hub.Config({SVG: {font: \"STIX-Web\"}});}</script><script>requirejs.config({paths: { 'plotly': ['https://cdn.plot.ly/plotly-latest.min']},});if(!window._Plotly) {require(['plotly'],function(plotly) {window._Plotly=plotly;});}</script>"
      ]
     },
     "metadata": {},
     "output_type": "display_data"
    }
   ],
   "source": [
    "import os\n",
    "\n",
    "import pandas as pd\n",
    "import numpy as np\n",
    "\n",
    "import sqlalchemy\n",
    "from sqlalchemy.ext.automap import automap_base\n",
    "from sqlalchemy.orm import Session\n",
    "from sqlalchemy import create_engine\n",
    "from sqlalchemy import func, distinct # library to use aggregate functions\n",
    "from sqlalchemy.sql import operators\n",
    "\n",
    "import seaborn as sns\n",
    "import matplotlib.pyplot as plt\n",
    "\n",
    "# plotly\n",
    "import plotly.plotly as py\n",
    "import plotly.offline as pyOff\n",
    "from plotly.offline import init_notebook_mode, iplot\n",
    "init_notebook_mode(connected=True)\n",
    "import plotly.graph_objs as go\n",
    "import plotly.figure_factory as ff"
   ]
  },
  {
   "cell_type": "code",
   "execution_count": 2,
   "metadata": {},
   "outputs": [],
   "source": [
    "# Declare global variables\n",
    "dbPath = \"trafficViolations/static/db\"\n",
    "\n",
    "dbName = \"trafficViolations.sqlite\""
   ]
  },
  {
   "cell_type": "code",
   "execution_count": 3,
   "metadata": {},
   "outputs": [],
   "source": [
    "# create the connection to SQLite db\n",
    "eng = create_engine(f\"sqlite:///{dbPath}/{dbName}\")"
   ]
  },
  {
   "cell_type": "code",
   "execution_count": 4,
   "metadata": {},
   "outputs": [],
   "source": [
    "# reflect an existing database into a new model\n",
    "Base  = automap_base()\n",
    "\n",
    "#prepare and reflect all tables wih data\n",
    "Base.prepare(eng, reflect = True)"
   ]
  },
  {
   "cell_type": "code",
   "execution_count": 5,
   "metadata": {},
   "outputs": [
    {
     "name": "stdout",
     "output_type": "stream",
     "text": [
      "['traffic_violations']\n"
     ]
    }
   ],
   "source": [
    "print(Base.classes.keys())"
   ]
  },
  {
   "cell_type": "code",
   "execution_count": 6,
   "metadata": {},
   "outputs": [],
   "source": [
    "V = Base.classes['traffic_violations']"
   ]
  },
  {
   "cell_type": "code",
   "execution_count": 7,
   "metadata": {},
   "outputs": [],
   "source": [
    "# create session\n",
    "session = Session(bind = eng)"
   ]
  },
  {
   "cell_type": "code",
   "execution_count": 8,
   "metadata": {},
   "outputs": [
    {
     "data": {
      "text/html": [
       "<div>\n",
       "<style scoped>\n",
       "    .dataframe tbody tr th:only-of-type {\n",
       "        vertical-align: middle;\n",
       "    }\n",
       "\n",
       "    .dataframe tbody tr th {\n",
       "        vertical-align: top;\n",
       "    }\n",
       "\n",
       "    .dataframe thead th {\n",
       "        text-align: right;\n",
       "    }\n",
       "</style>\n",
       "<table border=\"1\" class=\"dataframe\">\n",
       "  <thead>\n",
       "    <tr style=\"text-align: right;\">\n",
       "      <th></th>\n",
       "      <th>Year</th>\n",
       "      <th>Month</th>\n",
       "      <th>Cnt</th>\n",
       "    </tr>\n",
       "  </thead>\n",
       "  <tbody>\n",
       "    <tr>\n",
       "      <th>0</th>\n",
       "      <td>2012</td>\n",
       "      <td>1</td>\n",
       "      <td>7603</td>\n",
       "    </tr>\n",
       "    <tr>\n",
       "      <th>1</th>\n",
       "      <td>2013</td>\n",
       "      <td>1</td>\n",
       "      <td>9452</td>\n",
       "    </tr>\n",
       "    <tr>\n",
       "      <th>2</th>\n",
       "      <td>2014</td>\n",
       "      <td>1</td>\n",
       "      <td>10737</td>\n",
       "    </tr>\n",
       "    <tr>\n",
       "      <th>3</th>\n",
       "      <td>2015</td>\n",
       "      <td>1</td>\n",
       "      <td>11959</td>\n",
       "    </tr>\n",
       "    <tr>\n",
       "      <th>4</th>\n",
       "      <td>2016</td>\n",
       "      <td>1</td>\n",
       "      <td>11307</td>\n",
       "    </tr>\n",
       "  </tbody>\n",
       "</table>\n",
       "</div>"
      ],
      "text/plain": [
       "   Year  Month    Cnt\n",
       "0  2012      1   7603\n",
       "1  2013      1   9452\n",
       "2  2014      1  10737\n",
       "3  2015      1  11959\n",
       "4  2016      1  11307"
      ]
     },
     "execution_count": 8,
     "metadata": {},
     "output_type": "execute_result"
    }
   ],
   "source": [
    "# extract unique years\n",
    "def getAllViolations_byMonth():\n",
    "    sel = [V.Year, V.Month, func.sum(V.ViolationCount)]\n",
    "    res = pd.DataFrame(session.query(*sel).group_by(V.Month).group_by(V.Year).all(), columns = ['Year','Month','Cnt'])\n",
    "    \n",
    "    return res\n",
    "\n",
    "df = getAllViolations_byMonth()\n",
    "df.head()"
   ]
  },
  {
   "cell_type": "code",
   "execution_count": 11,
   "metadata": {},
   "outputs": [
    {
     "data": {
      "text/plain": [
       "Year     object\n",
       "Month    object\n",
       "Cnt      object\n",
       "dtype: object"
      ]
     },
     "execution_count": 11,
     "metadata": {},
     "output_type": "execute_result"
    }
   ],
   "source": [
    "df = df.astype(str)\n",
    "df.dtypes"
   ]
  },
  {
   "cell_type": "code",
   "execution_count": 58,
   "metadata": {},
   "outputs": [
    {
     "data": {
      "text/html": [
       "<div>\n",
       "<style scoped>\n",
       "    .dataframe tbody tr th:only-of-type {\n",
       "        vertical-align: middle;\n",
       "    }\n",
       "\n",
       "    .dataframe tbody tr th {\n",
       "        vertical-align: top;\n",
       "    }\n",
       "\n",
       "    .dataframe thead th {\n",
       "        text-align: right;\n",
       "    }\n",
       "</style>\n",
       "<table border=\"1\" class=\"dataframe\">\n",
       "  <thead>\n",
       "    <tr style=\"text-align: right;\">\n",
       "      <th></th>\n",
       "      <th>Year</th>\n",
       "      <th>Qtr</th>\n",
       "      <th>Cnt</th>\n",
       "    </tr>\n",
       "  </thead>\n",
       "  <tbody>\n",
       "    <tr>\n",
       "      <th>0</th>\n",
       "      <td>2012</td>\n",
       "      <td>1</td>\n",
       "      <td>23268</td>\n",
       "    </tr>\n",
       "    <tr>\n",
       "      <th>1</th>\n",
       "      <td>2013</td>\n",
       "      <td>1</td>\n",
       "      <td>29480</td>\n",
       "    </tr>\n",
       "    <tr>\n",
       "      <th>2</th>\n",
       "      <td>2014</td>\n",
       "      <td>1</td>\n",
       "      <td>34673</td>\n",
       "    </tr>\n",
       "    <tr>\n",
       "      <th>3</th>\n",
       "      <td>2015</td>\n",
       "      <td>1</td>\n",
       "      <td>36555</td>\n",
       "    </tr>\n",
       "    <tr>\n",
       "      <th>4</th>\n",
       "      <td>2016</td>\n",
       "      <td>1</td>\n",
       "      <td>39279</td>\n",
       "    </tr>\n",
       "  </tbody>\n",
       "</table>\n",
       "</div>"
      ],
      "text/plain": [
       "   Year  Qtr    Cnt\n",
       "0  2012    1  23268\n",
       "1  2013    1  29480\n",
       "2  2014    1  34673\n",
       "3  2015    1  36555\n",
       "4  2016    1  39279"
      ]
     },
     "execution_count": 58,
     "metadata": {},
     "output_type": "execute_result"
    }
   ],
   "source": [
    "# extract unique years\n",
    "def getAllViolations_byQtr():\n",
    "    sel = [V.Year, V.Qtr, func.sum(V.ViolationCount)]\n",
    "    res = pd.DataFrame(session.query(*sel).group_by(V.Qtr).group_by(V.Year).all(), columns = ['Year','Qtr','Cnt'])\n",
    "    \n",
    "    return res\n",
    "\n",
    "dfQ = getAllViolations_byQtr()\n",
    "dfQ.head()"
   ]
  },
  {
   "cell_type": "code",
   "execution_count": 70,
   "metadata": {},
   "outputs": [
    {
     "data": {
      "text/html": [
       "<div>\n",
       "<style scoped>\n",
       "    .dataframe tbody tr th:only-of-type {\n",
       "        vertical-align: middle;\n",
       "    }\n",
       "\n",
       "    .dataframe tbody tr th {\n",
       "        vertical-align: top;\n",
       "    }\n",
       "\n",
       "    .dataframe thead th {\n",
       "        text-align: right;\n",
       "    }\n",
       "</style>\n",
       "<table border=\"1\" class=\"dataframe\">\n",
       "  <thead>\n",
       "    <tr style=\"text-align: right;\">\n",
       "      <th></th>\n",
       "      <th>Year</th>\n",
       "      <th>Dist</th>\n",
       "      <th>Cnt</th>\n",
       "    </tr>\n",
       "  </thead>\n",
       "  <tbody>\n",
       "    <tr>\n",
       "      <th>0</th>\n",
       "      <td>2012</td>\n",
       "      <td>1</td>\n",
       "      <td>14936</td>\n",
       "    </tr>\n",
       "    <tr>\n",
       "      <th>1</th>\n",
       "      <td>2013</td>\n",
       "      <td>1</td>\n",
       "      <td>15983</td>\n",
       "    </tr>\n",
       "    <tr>\n",
       "      <th>2</th>\n",
       "      <td>2014</td>\n",
       "      <td>1</td>\n",
       "      <td>18790</td>\n",
       "    </tr>\n",
       "    <tr>\n",
       "      <th>3</th>\n",
       "      <td>2015</td>\n",
       "      <td>1</td>\n",
       "      <td>18216</td>\n",
       "    </tr>\n",
       "    <tr>\n",
       "      <th>4</th>\n",
       "      <td>2016</td>\n",
       "      <td>1</td>\n",
       "      <td>17460</td>\n",
       "    </tr>\n",
       "  </tbody>\n",
       "</table>\n",
       "</div>"
      ],
      "text/plain": [
       "   Year  Dist    Cnt\n",
       "0  2012     1  14936\n",
       "1  2013     1  15983\n",
       "2  2014     1  18790\n",
       "3  2015     1  18216\n",
       "4  2016     1  17460"
      ]
     },
     "execution_count": 70,
     "metadata": {},
     "output_type": "execute_result"
    }
   ],
   "source": [
    "def getAllViolations_byDist():\n",
    "    sel = [V.Year, V.PoliceDistrictID, func.sum(V.ViolationCount)]\n",
    "    res = pd.DataFrame(session.query(*sel).group_by(V.PoliceDistrictID).group_by(V.Year).all(), columns = ['Year','Dist','Cnt'])\n",
    "    \n",
    "    return res\n",
    "\n",
    "dfD = getAllViolations_byDist()\n",
    "dfD.head()"
   ]
  },
  {
   "cell_type": "code",
   "execution_count": 38,
   "metadata": {},
   "outputs": [
    {
     "data": {
      "text/plain": [
       "0    1-2012\n",
       "1    1-2013\n",
       "2    1-2014\n",
       "Name: Period, dtype: object"
      ]
     },
     "execution_count": 38,
     "metadata": {},
     "output_type": "execute_result"
    }
   ],
   "source": [
    "df['Year'] = df['Year'].astype(str)\n",
    "df['Month'] = df['Month'].astype(str)\n",
    "df['Period'] = df[['Month','Year']].apply(lambda x : \"-\".join(x), axis=1)\n",
    "df['Year'] = df['Year'].astype(int)\n",
    "df['Month'] = df['Month'].astype(int)\n",
    "df.Period.head(3)"
   ]
  },
  {
   "cell_type": "code",
   "execution_count": 39,
   "metadata": {},
   "outputs": [
    {
     "data": {
      "text/plain": [
       "array([2012, 2013, 2014, 2015, 2016], dtype=int64)"
      ]
     },
     "execution_count": 39,
     "metadata": {},
     "output_type": "execute_result"
    }
   ],
   "source": [
    "df.Year.unique()"
   ]
  },
  {
   "cell_type": "code",
   "execution_count": 40,
   "metadata": {},
   "outputs": [],
   "source": [
    "color = {2012:'#6666ff',2013:'#cc0099',2014:'#660033',2015:'#ff9900',2016:'#009900'}\n",
    "data = []\n",
    "for i in df.Year.unique():\n",
    "    # Creating trace1\n",
    "    data.append(go.Scatter(\n",
    "                    x = df[df.Year == i].Month,\n",
    "                    y = df[df.Year == i].Cnt,\n",
    "                    mode = \"lines\",\n",
    "                    name = f\"Violation {i}\",\n",
    "                    marker = dict(color = color[i]),\n",
    "                    text= str(i))\n",
    "               )"
   ]
  },
  {
   "cell_type": "code",
   "execution_count": 42,
   "metadata": {},
   "outputs": [
    {
     "data": {
      "application/vnd.plotly.v1+json": {
       "config": {
        "linkText": "Export to plot.ly",
        "plotlyServerURL": "https://plot.ly",
        "showLink": false
       },
       "data": [
        {
         "marker": {
          "color": "#6666ff"
         },
         "mode": "lines",
         "name": "Violation 2012",
         "text": "2012",
         "type": "scatter",
         "uid": "0e97cb2a-3d5f-4c12-a382-574ab43c535f",
         "x": [
          1,
          2,
          3,
          4,
          5,
          6,
          7,
          8,
          9,
          10,
          11,
          12
         ],
         "y": [
          7603,
          7399,
          8266,
          8821,
          10795,
          8882,
          8316,
          8767,
          8729,
          9400,
          9692,
          9225
         ]
        },
        {
         "marker": {
          "color": "#cc0099"
         },
         "mode": "lines",
         "name": "Violation 2013",
         "text": "2013",
         "type": "scatter",
         "uid": "ccdd43ee-481f-41d0-a71c-e86cdf0cf40b",
         "x": [
          1,
          2,
          3,
          4,
          5,
          6,
          7,
          8,
          9,
          10,
          11,
          12
         ],
         "y": [
          9452,
          9018,
          11010,
          10538,
          11903,
          9566,
          11110,
          11710,
          12275,
          12025,
          11846,
          11332
         ]
        },
        {
         "marker": {
          "color": "#660033"
         },
         "mode": "lines",
         "name": "Violation 2014",
         "text": "2014",
         "type": "scatter",
         "uid": "af5dddd5-c6b8-4f76-9216-4a5edd9ef665",
         "x": [
          1,
          2,
          3,
          4,
          5,
          6,
          7,
          8,
          9,
          10,
          11,
          12
         ],
         "y": [
          10737,
          10782,
          13154,
          13939,
          14585,
          12137,
          13118,
          12399,
          12481,
          13409,
          12473,
          11499
         ]
        },
        {
         "marker": {
          "color": "#ff9900"
         },
         "mode": "lines",
         "name": "Violation 2015",
         "text": "2015",
         "type": "scatter",
         "uid": "12e153cd-38fc-4081-b87f-b73f8263295e",
         "x": [
          1,
          2,
          3,
          4,
          5,
          6,
          7,
          8,
          9,
          10,
          11,
          12
         ],
         "y": [
          11959,
          10924,
          13672,
          14112,
          14023,
          12976,
          13504,
          14265,
          13530,
          13548,
          13430,
          12352
         ]
        },
        {
         "marker": {
          "color": "#009900"
         },
         "mode": "lines",
         "name": "Violation 2016",
         "text": "2016",
         "type": "scatter",
         "uid": "866a06d1-6000-4216-8221-fee0f2745477",
         "x": [
          1,
          2,
          3,
          4,
          5,
          6,
          7,
          8,
          9,
          10,
          11,
          12
         ],
         "y": [
          11307,
          13138,
          14834,
          14133,
          12933,
          13510,
          12191,
          12448,
          11667,
          12008,
          11222,
          10339
         ]
        }
       ],
       "layout": {
        "title": {
         "text": "Violation across months over years (2012 to 2016)"
        },
        "xaxis": {
         "ticklen": 5,
         "title": {
          "text": "Months"
         },
         "zeroline": false
        }
       }
      },
      "text/html": [
       "<div id=\"d49053af-e8d5-453f-a918-0db4098c91b2\" style=\"height: 525px; width: 100%;\" class=\"plotly-graph-div\"></div><script type=\"text/javascript\">require([\"plotly\"], function(Plotly) { window.PLOTLYENV=window.PLOTLYENV || {};window.PLOTLYENV.BASE_URL=\"https://plot.ly\";Plotly.newPlot(\"d49053af-e8d5-453f-a918-0db4098c91b2\", [{\"marker\": {\"color\": \"#6666ff\"}, \"mode\": \"lines\", \"name\": \"Violation 2012\", \"text\": \"2012\", \"x\": [1, 2, 3, 4, 5, 6, 7, 8, 9, 10, 11, 12], \"y\": [7603, 7399, 8266, 8821, 10795, 8882, 8316, 8767, 8729, 9400, 9692, 9225], \"type\": \"scatter\", \"uid\": \"88474acd-c6fb-4553-88b8-6c0bc6ea6792\"}, {\"marker\": {\"color\": \"#cc0099\"}, \"mode\": \"lines\", \"name\": \"Violation 2013\", \"text\": \"2013\", \"x\": [1, 2, 3, 4, 5, 6, 7, 8, 9, 10, 11, 12], \"y\": [9452, 9018, 11010, 10538, 11903, 9566, 11110, 11710, 12275, 12025, 11846, 11332], \"type\": \"scatter\", \"uid\": \"366aff89-3bd8-4f4a-b385-4f75aaf47014\"}, {\"marker\": {\"color\": \"#660033\"}, \"mode\": \"lines\", \"name\": \"Violation 2014\", \"text\": \"2014\", \"x\": [1, 2, 3, 4, 5, 6, 7, 8, 9, 10, 11, 12], \"y\": [10737, 10782, 13154, 13939, 14585, 12137, 13118, 12399, 12481, 13409, 12473, 11499], \"type\": \"scatter\", \"uid\": \"ce93f2f9-a3af-48b9-b5f2-404805bf9e03\"}, {\"marker\": {\"color\": \"#ff9900\"}, \"mode\": \"lines\", \"name\": \"Violation 2015\", \"text\": \"2015\", \"x\": [1, 2, 3, 4, 5, 6, 7, 8, 9, 10, 11, 12], \"y\": [11959, 10924, 13672, 14112, 14023, 12976, 13504, 14265, 13530, 13548, 13430, 12352], \"type\": \"scatter\", \"uid\": \"7874c1d8-c825-4774-918b-f57125458558\"}, {\"marker\": {\"color\": \"#009900\"}, \"mode\": \"lines\", \"name\": \"Violation 2016\", \"text\": \"2016\", \"x\": [1, 2, 3, 4, 5, 6, 7, 8, 9, 10, 11, 12], \"y\": [11307, 13138, 14834, 14133, 12933, 13510, 12191, 12448, 11667, 12008, 11222, 10339], \"type\": \"scatter\", \"uid\": \"4be89128-d708-4702-b696-e6b6bd6b4a82\"}], {\"title\": {\"text\": \"Violation across months over years (2012 to 2016)\"}, \"xaxis\": {\"ticklen\": 5, \"title\": {\"text\": \"Months\"}, \"zeroline\": false}}, {\"showLink\": false, \"linkText\": \"Export to plot.ly\", \"plotlyServerURL\": \"https://plot.ly\"})});</script><script type=\"text/javascript\">window.addEventListener(\"resize\", function(){window._Plotly.Plots.resize(document.getElementById(\"d49053af-e8d5-453f-a918-0db4098c91b2\"));});</script>"
      ],
      "text/vnd.plotly.v1+html": [
       "<div id=\"d49053af-e8d5-453f-a918-0db4098c91b2\" style=\"height: 525px; width: 100%;\" class=\"plotly-graph-div\"></div><script type=\"text/javascript\">require([\"plotly\"], function(Plotly) { window.PLOTLYENV=window.PLOTLYENV || {};window.PLOTLYENV.BASE_URL=\"https://plot.ly\";Plotly.newPlot(\"d49053af-e8d5-453f-a918-0db4098c91b2\", [{\"marker\": {\"color\": \"#6666ff\"}, \"mode\": \"lines\", \"name\": \"Violation 2012\", \"text\": \"2012\", \"x\": [1, 2, 3, 4, 5, 6, 7, 8, 9, 10, 11, 12], \"y\": [7603, 7399, 8266, 8821, 10795, 8882, 8316, 8767, 8729, 9400, 9692, 9225], \"type\": \"scatter\", \"uid\": \"88474acd-c6fb-4553-88b8-6c0bc6ea6792\"}, {\"marker\": {\"color\": \"#cc0099\"}, \"mode\": \"lines\", \"name\": \"Violation 2013\", \"text\": \"2013\", \"x\": [1, 2, 3, 4, 5, 6, 7, 8, 9, 10, 11, 12], \"y\": [9452, 9018, 11010, 10538, 11903, 9566, 11110, 11710, 12275, 12025, 11846, 11332], \"type\": \"scatter\", \"uid\": \"366aff89-3bd8-4f4a-b385-4f75aaf47014\"}, {\"marker\": {\"color\": \"#660033\"}, \"mode\": \"lines\", \"name\": \"Violation 2014\", \"text\": \"2014\", \"x\": [1, 2, 3, 4, 5, 6, 7, 8, 9, 10, 11, 12], \"y\": [10737, 10782, 13154, 13939, 14585, 12137, 13118, 12399, 12481, 13409, 12473, 11499], \"type\": \"scatter\", \"uid\": \"ce93f2f9-a3af-48b9-b5f2-404805bf9e03\"}, {\"marker\": {\"color\": \"#ff9900\"}, \"mode\": \"lines\", \"name\": \"Violation 2015\", \"text\": \"2015\", \"x\": [1, 2, 3, 4, 5, 6, 7, 8, 9, 10, 11, 12], \"y\": [11959, 10924, 13672, 14112, 14023, 12976, 13504, 14265, 13530, 13548, 13430, 12352], \"type\": \"scatter\", \"uid\": \"7874c1d8-c825-4774-918b-f57125458558\"}, {\"marker\": {\"color\": \"#009900\"}, \"mode\": \"lines\", \"name\": \"Violation 2016\", \"text\": \"2016\", \"x\": [1, 2, 3, 4, 5, 6, 7, 8, 9, 10, 11, 12], \"y\": [11307, 13138, 14834, 14133, 12933, 13510, 12191, 12448, 11667, 12008, 11222, 10339], \"type\": \"scatter\", \"uid\": \"4be89128-d708-4702-b696-e6b6bd6b4a82\"}], {\"title\": {\"text\": \"Violation across months over years (2012 to 2016)\"}, \"xaxis\": {\"ticklen\": 5, \"title\": {\"text\": \"Months\"}, \"zeroline\": false}}, {\"showLink\": false, \"linkText\": \"Export to plot.ly\", \"plotlyServerURL\": \"https://plot.ly\"})});</script><script type=\"text/javascript\">window.addEventListener(\"resize\", function(){window._Plotly.Plots.resize(document.getElementById(\"d49053af-e8d5-453f-a918-0db4098c91b2\"));});</script>"
      ]
     },
     "metadata": {},
     "output_type": "display_data"
    }
   ],
   "source": [
    "layout = dict(title = 'Violation across months over years (2012 to 2016)',\n",
    "              xaxis= dict(title= 'Months',ticklen= 5,zeroline= False)\n",
    "             )\n",
    "\n",
    "fig = dict(data = data, layout = layout)\n",
    "iplot(fig)"
   ]
  },
  {
   "cell_type": "code",
   "execution_count": 44,
   "metadata": {},
   "outputs": [
    {
     "data": {
      "text/plain": [
       "[Box({\n",
       "     'y': array([ 7603,  7399,  8266,  8821, 10795,  8882,  8316,  8767,  8729,\n",
       "            9400,  9692,  9225], dtype=int64)\n",
       " }), Box({\n",
       "     'y': array([ 9452,  9018, 11010, 10538, 11903,  9566, 11110, 11710, 12275,\n",
       "           12025, 11846, 11332], dtype=int64)\n",
       " }), Box({\n",
       "     'y': array([10737, 10782, 13154, 13939, 14585, 12137, 13118, 12399, 12481,\n",
       "           13409, 12473, 11499], dtype=int64)\n",
       " }), Box({\n",
       "     'y': array([11959, 10924, 13672, 14112, 14023, 12976, 13504, 14265, 13530,\n",
       "           13548, 13430, 12352], dtype=int64)\n",
       " }), Box({\n",
       "     'y': array([11307, 13138, 14834, 14133, 12933, 13510, 12191, 12448, 11667,\n",
       "           12008, 11222, 10339], dtype=int64)\n",
       " })]"
      ]
     },
     "execution_count": 44,
     "metadata": {},
     "output_type": "execute_result"
    }
   ],
   "source": [
    "color = {2012:'#6666ff',2013:'#cc0099',2014:'#660033',2015:'#ff9900',2016:'#009900'}\n",
    "data = []\n",
    "for i in df.Year.unique():\n",
    "    # Creating trace1\n",
    "    data.append(go.Box(\n",
    "#                     x = df[df.Year == i].Month,\n",
    "                    y = df[df.Year == i].Cnt,\n",
    "#                     mode = \"lines\",\n",
    "                    )\n",
    "               )\n",
    "data"
   ]
  },
  {
   "cell_type": "code",
   "execution_count": 53,
   "metadata": {},
   "outputs": [
    {
     "data": {
      "application/vnd.plotly.v1+json": {
       "config": {
        "linkText": "Export to plot.ly",
        "plotlyServerURL": "https://plot.ly",
        "showLink": false
       },
       "data": [
        {
         "type": "box",
         "uid": "587949e6-368d-4c27-96e0-5077077ab8bb",
         "y": [
          7603,
          7399,
          8266,
          8821,
          10795,
          8882,
          8316,
          8767,
          8729,
          9400,
          9692,
          9225
         ]
        },
        {
         "type": "box",
         "uid": "6a2d9e0c-cf01-4dff-bdf9-fb137eec0a86",
         "y": [
          9452,
          9018,
          11010,
          10538,
          11903,
          9566,
          11110,
          11710,
          12275,
          12025,
          11846,
          11332
         ]
        },
        {
         "type": "box",
         "uid": "92325e2a-f235-4437-afa0-a5b849e883c8",
         "y": [
          10737,
          10782,
          13154,
          13939,
          14585,
          12137,
          13118,
          12399,
          12481,
          13409,
          12473,
          11499
         ]
        },
        {
         "type": "box",
         "uid": "5d8ba4c9-1719-4401-b674-e70794abe92c",
         "y": [
          11959,
          10924,
          13672,
          14112,
          14023,
          12976,
          13504,
          14265,
          13530,
          13548,
          13430,
          12352
         ]
        },
        {
         "type": "box",
         "uid": "7414f273-0825-44c5-9e17-08e658295f27",
         "y": [
          11307,
          13138,
          14834,
          14133,
          12933,
          13510,
          12191,
          12448,
          11667,
          12008,
          11222,
          10339
         ]
        }
       ],
       "layout": {}
      },
      "text/html": [
       "<div id=\"647f9aaa-308d-4fc5-a5db-41a6a6e8047c\" style=\"height: 525px; width: 100%;\" class=\"plotly-graph-div\"></div><script type=\"text/javascript\">require([\"plotly\"], function(Plotly) { window.PLOTLYENV=window.PLOTLYENV || {};window.PLOTLYENV.BASE_URL=\"https://plot.ly\";Plotly.newPlot(\"647f9aaa-308d-4fc5-a5db-41a6a6e8047c\", [{\"y\": [7603, 7399, 8266, 8821, 10795, 8882, 8316, 8767, 8729, 9400, 9692, 9225], \"type\": \"box\", \"uid\": \"5b8ba9d2-2775-4635-b8cb-bdf5179e8d48\"}, {\"y\": [9452, 9018, 11010, 10538, 11903, 9566, 11110, 11710, 12275, 12025, 11846, 11332], \"type\": \"box\", \"uid\": \"02334101-19f7-4567-acba-a66b46ddc917\"}, {\"y\": [10737, 10782, 13154, 13939, 14585, 12137, 13118, 12399, 12481, 13409, 12473, 11499], \"type\": \"box\", \"uid\": \"3f0e044a-e488-402e-9221-0b5c3c9dd6f7\"}, {\"y\": [11959, 10924, 13672, 14112, 14023, 12976, 13504, 14265, 13530, 13548, 13430, 12352], \"type\": \"box\", \"uid\": \"3f9a2c1c-edb0-43f5-a967-f4bbe7f35c90\"}, {\"y\": [11307, 13138, 14834, 14133, 12933, 13510, 12191, 12448, 11667, 12008, 11222, 10339], \"type\": \"box\", \"uid\": \"8a1e7483-3fc3-4a42-b204-41639b9253f4\"}], {}, {\"showLink\": false, \"linkText\": \"Export to plot.ly\", \"plotlyServerURL\": \"https://plot.ly\"})});</script><script type=\"text/javascript\">window.addEventListener(\"resize\", function(){window._Plotly.Plots.resize(document.getElementById(\"647f9aaa-308d-4fc5-a5db-41a6a6e8047c\"));});</script>"
      ],
      "text/vnd.plotly.v1+html": [
       "<div id=\"647f9aaa-308d-4fc5-a5db-41a6a6e8047c\" style=\"height: 525px; width: 100%;\" class=\"plotly-graph-div\"></div><script type=\"text/javascript\">require([\"plotly\"], function(Plotly) { window.PLOTLYENV=window.PLOTLYENV || {};window.PLOTLYENV.BASE_URL=\"https://plot.ly\";Plotly.newPlot(\"647f9aaa-308d-4fc5-a5db-41a6a6e8047c\", [{\"y\": [7603, 7399, 8266, 8821, 10795, 8882, 8316, 8767, 8729, 9400, 9692, 9225], \"type\": \"box\", \"uid\": \"5b8ba9d2-2775-4635-b8cb-bdf5179e8d48\"}, {\"y\": [9452, 9018, 11010, 10538, 11903, 9566, 11110, 11710, 12275, 12025, 11846, 11332], \"type\": \"box\", \"uid\": \"02334101-19f7-4567-acba-a66b46ddc917\"}, {\"y\": [10737, 10782, 13154, 13939, 14585, 12137, 13118, 12399, 12481, 13409, 12473, 11499], \"type\": \"box\", \"uid\": \"3f0e044a-e488-402e-9221-0b5c3c9dd6f7\"}, {\"y\": [11959, 10924, 13672, 14112, 14023, 12976, 13504, 14265, 13530, 13548, 13430, 12352], \"type\": \"box\", \"uid\": \"3f9a2c1c-edb0-43f5-a967-f4bbe7f35c90\"}, {\"y\": [11307, 13138, 14834, 14133, 12933, 13510, 12191, 12448, 11667, 12008, 11222, 10339], \"type\": \"box\", \"uid\": \"8a1e7483-3fc3-4a42-b204-41639b9253f4\"}], {}, {\"showLink\": false, \"linkText\": \"Export to plot.ly\", \"plotlyServerURL\": \"https://plot.ly\"})});</script><script type=\"text/javascript\">window.addEventListener(\"resize\", function(){window._Plotly.Plots.resize(document.getElementById(\"647f9aaa-308d-4fc5-a5db-41a6a6e8047c\"));});</script>"
      ]
     },
     "metadata": {},
     "output_type": "display_data"
    }
   ],
   "source": [
    "pyOff.iplot(data)"
   ]
  },
  {
   "cell_type": "code",
   "execution_count": 73,
   "metadata": {},
   "outputs": [
    {
     "name": "stderr",
     "output_type": "stream",
     "text": [
      "E:\\Anaconda3\\lib\\site-packages\\scipy\\stats\\stats.py:1713: FutureWarning:\n",
      "\n",
      "Using a non-tuple sequence for multidimensional indexing is deprecated; use `arr[tuple(seq)]` instead of `arr[seq]`. In the future this will be interpreted as an array index, `arr[np.array(seq)]`, which will result either in an error or a different result.\n",
      "\n"
     ]
    },
    {
     "data": {
      "text/plain": [
       "<matplotlib.axes._subplots.AxesSubplot at 0x19413f6a278>"
      ]
     },
     "execution_count": 73,
     "metadata": {},
     "output_type": "execute_result"
    },
    {
     "data": {
      "image/png": "[encoded data removed]",
      "text/plain": [
       "<Figure size 432x288 with 1 Axes>"
      ]
     },
     "metadata": {
      "needs_background": "light"
     },
     "output_type": "display_data"
    }
   ],
   "source": [
    "sns.regplot(\"Qtr\",\"Cnt\", data=dfQ)"
   ]
  },
  {
   "cell_type": "code",
   "execution_count": null,
   "metadata": {},
   "outputs": [],
   "source": []
  }
 ],
 "metadata": {
  "kernelspec": {
   "display_name": "Python 3",
   "language": "python",
   "name": "python3"
  },
  "language_info": {
   "codemirror_mode": {
    "name": "ipython",
    "version": 3
   },
   "file_extension": ".py",
   "mimetype": "text/x-python",
   "name": "python",
   "nbconvert_exporter": "python",
   "pygments_lexer": "ipython3",
   "version": "3.7.0"
  }
 },
 "nbformat": 4,
 "nbformat_minor": 2
}
