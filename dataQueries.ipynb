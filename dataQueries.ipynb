{
 "cells": [
  {
   "cell_type": "code",
   "execution_count": 1,
   "metadata": {},
   "outputs": [],
   "source": [
    "import os\n",
    "\n",
    "import pandas as pd\n",
    "import numpy as np\n",
    "\n",
    "import sqlalchemy\n",
    "from sqlalchemy.ext.automap import automap_base\n",
    "from sqlalchemy.orm import Session\n",
    "from sqlalchemy import create_engine\n",
    "from sqlalchemy import func, distinct, in_ # library to use aggregate functions"
   ]
  },
  {
   "cell_type": "code",
   "execution_count": 2,
   "metadata": {},
   "outputs": [],
   "source": [
    "# Declare global variables\n",
    "dbPath = \"trafficViolations/static/db\"\n",
    "\n",
    "dbName = \"trafficViolations.sqlite\""
   ]
  },
  {
   "cell_type": "code",
   "execution_count": 3,
   "metadata": {},
   "outputs": [],
   "source": [
    "# create the connection to SQLite db\n",
    "eng = create_engine(f\"sqlite:///{dbPath}/{dbName}\")"
   ]
  },
  {
   "cell_type": "code",
   "execution_count": 4,
   "metadata": {},
   "outputs": [],
   "source": [
    "# reflect an existing database into a new model\n",
    "Base  = automap_base()\n",
    "\n",
    "#prepare and reflect all tables wih data\n",
    "Base.prepare(eng, reflect = True)"
   ]
  },
  {
   "cell_type": "code",
   "execution_count": 5,
   "metadata": {},
   "outputs": [
    {
     "name": "stdout",
     "output_type": "stream",
     "text": [
      "['traffic_violations']\n"
     ]
    }
   ],
   "source": [
    "print(Base.classes.keys())"
   ]
  },
  {
   "cell_type": "code",
   "execution_count": 6,
   "metadata": {},
   "outputs": [],
   "source": [
    "V = Base.classes['traffic_violations']"
   ]
  },
  {
   "cell_type": "code",
   "execution_count": 7,
   "metadata": {},
   "outputs": [],
   "source": [
    "# create session\n",
    "session = Session(bind = eng)"
   ]
  },
  {
   "cell_type": "markdown",
   "metadata": {},
   "source": [
    "### DATA Extraction Queries\n"
   ]
  },
  {
   "cell_type": "code",
   "execution_count": 8,
   "metadata": {},
   "outputs": [],
   "source": [
    "# extract unique years\n",
    "def getYears():\n",
    "    res = pd.DataFrame(session.query(distinct(V.Year)).all(), columns = ['Year'])\n",
    "    return res\n",
    "\n",
    "#getYears()"
   ]
  },
  {
   "cell_type": "code",
   "execution_count": 9,
   "metadata": {},
   "outputs": [],
   "source": [
    "# extract uniq Months\n",
    "def getMonths():\n",
    "    res = pd.DataFrame(session.query(distinct(V.Month)).all(), columns = ['Month'])\n",
    "    return res\n",
    "\n",
    "#getMonths()"
   ]
  },
  {
   "cell_type": "code",
   "execution_count": 10,
   "metadata": {},
   "outputs": [],
   "source": [
    "# extract uniq Qtr\n",
    "def getQtrs():\n",
    "    res = pd.DataFrame(session.query(distinct(V.Qtr)).all(), columns = ['Qtr'])\n",
    "    return res\n",
    "\n",
    "#getQtrs()"
   ]
  },
  {
   "cell_type": "code",
   "execution_count": 11,
   "metadata": {},
   "outputs": [],
   "source": [
    "# extract uniq SubAgency and Police District\n",
    "def getPoliceDist():\n",
    "    res = pd.DataFrame(session.query(V.SubAgency,V.PoliceDistrictID).distinct().all(), columns = ['SubAgency','PoliceDistrictID'])\n",
    "    return res\n",
    "\n",
    "# getPoliceDist()"
   ]
  },
  {
   "cell_type": "code",
   "execution_count": 12,
   "metadata": {},
   "outputs": [],
   "source": [
    "# extract uniq ViolaitonCategory\n",
    "def getVioCat():\n",
    "    res = pd.DataFrame(session.query(distinct(V.ViolationCategory)).all(), columns = ['ViolationCategory'])\n",
    "    return res\n",
    "\n",
    "# getVioCat()"
   ]
  },
  {
   "cell_type": "code",
   "execution_count": 13,
   "metadata": {},
   "outputs": [],
   "source": [
    "# extract uniq ViolationType\n",
    "def getVioType():\n",
    "    res = pd.DataFrame(session.query(distinct(V.ViolationType)).all(), columns = ['ViolationType'])\n",
    "    return res\n",
    "\n",
    "# getVioType()"
   ]
  },
  {
   "cell_type": "code",
   "execution_count": 14,
   "metadata": {},
   "outputs": [],
   "source": [
    "# extract uniq Vehicle Grp\n",
    "def getVehGrp():\n",
    "    res = pd.DataFrame(session.query(distinct(V.VehicleGroup)).all(), columns = ['VehicleGroup'])\n",
    "    return res\n",
    "\n",
    "# getVehGrp()"
   ]
  },
  {
   "cell_type": "code",
   "execution_count": 50,
   "metadata": {},
   "outputs": [],
   "source": [
    "def summarize_YR_QTR():\n",
    "    res = pd.DataFrame(session.query(V.Year, V.Qtr, func.sum(V.ViolationCount)).\\\n",
    "            group_by(V.Qtr).group_by(V.Year).all(), columns = ['Year', 'Qtr','Total_ViolationCount'])\n",
    "    return res\n",
    "\n",
    "# summarize_YR_QTR()"
   ]
  },
  {
   "cell_type": "code",
   "execution_count": 226,
   "metadata": {},
   "outputs": [],
   "source": [
    "# extract violation count by year and qtr\n",
    "def getCntBY_YR_QTR():\n",
    "    df = summarize_YR_QTR()\n",
    "    df = pd.pivot_table(df, values = \"Total_ViolationCount\", index = ['Year'], columns = [\"Qtr\"], aggfunc = np.sum)\n",
    "    #caclculate year on year change\n",
    "    df = df.pct_change()\n",
    "    # drop na\n",
    "    df = df.dropna(how = \"any\")    \n",
    "    \n",
    "    # reshape to normal dataframe strcuture\n",
    "    df = pd.DataFrame(df.unstack())\n",
    "    df.rename(columns = {0: 'YOY_Change'}, inplace = True)\n",
    "    df.reset_index(inplace = True)\n",
    "    return df\n",
    "    \n",
    "    \n",
    "#getCntBY_YR_QTR() "
   ]
  },
  {
   "cell_type": "code",
   "execution_count": 228,
   "metadata": {},
   "outputs": [],
   "source": [
    "# extract violation count by police dist, year and qtr\n",
    "def getCntBY_Dist_YR_QTR():\n",
    "    res = pd.DataFrame(session.query(V.SubAgency, V.Year, V.Qtr, func.sum(V.ViolationCount)).\\\n",
    "            group_by(V.SubAgency).group_by(V.Qtr).group_by(V.Year).all(), \\\n",
    "                       columns = ['SubAgency','Year', 'Qtr','Total_ViolationCount'])\n",
    "    \n",
    "    #   reshape result to calculate diff between Qtrs\n",
    "    df_diff = pd.pivot_table(df, values = \"Total_ViolationCount\", index = ['SubAgency','Qtr'], columns = ['Year'])\n",
    "    #calculate difference\n",
    "    df_diff = df_diff.diff(axis = 1)\n",
    "    \n",
    "    # unstack to remove multilevel index\n",
    "    d = df_diff.unstack().unstack().reset_index()\n",
    "    \n",
    "    #drop NAN and reset index\n",
    "    d.dropna(how = \"any\", inplace = True)\n",
    "    d.reset_index()\n",
    "    \n",
    "    # extract the data for total values\n",
    "    df_tot = summarize_YR_QTR()\n",
    "    \n",
    "    # iterate to calculat the Contribution %\n",
    "    df_result = []\n",
    "    for index, row in d.iterrows():\n",
    "        pct = (row[0]/(df_tot[(df_tot['Year'] == row.Year-1) & (df_tot.Qtr == row.Qtr)]['Total_ViolationCount'])).iloc[0]    \n",
    "        df_result.append({\n",
    "            'Year': row.Year,\n",
    "            'Qtr':row.Qtr,\n",
    "            'SubAgency':row.SubAgency,\n",
    "            'Contrib_pct':pct\n",
    "        })\n",
    "    \n",
    "    \n",
    "    return pd.DataFrame(df_result)\n",
    "    \n",
    "#getCntBY_Dist_YR_QTR()\n"
   ]
  },
  {
   "cell_type": "markdown",
   "metadata": {},
   "source": [
    "### Data extraction for Dynamic charts"
   ]
  },
  {
   "cell_type": "code",
   "execution_count": 241,
   "metadata": {},
   "outputs": [],
   "source": [
    "# function to extract Violation  by district\n",
    "# parameters Year (All, specific Year), Category (All & specific category) and District (All and specific)\n",
    "def filterData_main(yr = 0, cat = \"all\", dist = 0):\n",
    "    \n",
    "    _filter = [1==1, V.Qtr.in_([1,2,3,4])]\n",
    "    if(yr != 0):\n",
    "        _filter.append(V.Year.in_([yr]))\n",
    "    \n",
    "    \n",
    "    #list of items to select\n",
    "    selList = [V.Year,V.Qtr,V.Month,V.SubAgency,V.PoliceDistrictID,V.ViolationType,V.ViolationCategory,\n",
    "               V.VehicleGroup,func.sum(V.PersonalInjury),func.sum(V.PropertyDamage),\n",
    "               func.sum(V.Fatal),func.sum(V.ContributedToAccident),func.sum(V.ViolationCount)]\n",
    "    \n",
    "    res = session.query(*selList).filter(*_filter).all()\n",
    "                       \n",
    "    df = pd.DataFrame(res, columns = [\"Year\",\"Qtr\",\"Month\",\"SubAgency\",\"PoliceDistrictID\",\"ViolationType\",\n",
    "                                      \"ViolationCategory\",\"VehicleGroup\",\"PersonalInjury\",\"PropertyDamage\",\"Fatal\",\n",
    "                                      \"ContributedToAccident\",\"ViolationCount\"])\n",
    "    \n",
    "    return df"
   ]
  },
  {
   "cell_type": "code",
   "execution_count": 243,
   "metadata": {},
   "outputs": [
    {
     "data": {
      "text/html": [
       "<div>\n",
       "<style scoped>\n",
       "    .dataframe tbody tr th:only-of-type {\n",
       "        vertical-align: middle;\n",
       "    }\n",
       "\n",
       "    .dataframe tbody tr th {\n",
       "        vertical-align: top;\n",
       "    }\n",
       "\n",
       "    .dataframe thead th {\n",
       "        text-align: right;\n",
       "    }\n",
       "</style>\n",
       "<table border=\"1\" class=\"dataframe\">\n",
       "  <thead>\n",
       "    <tr style=\"text-align: right;\">\n",
       "      <th></th>\n",
       "      <th>Year</th>\n",
       "      <th>Qtr</th>\n",
       "      <th>Month</th>\n",
       "      <th>SubAgency</th>\n",
       "      <th>PoliceDistrictID</th>\n",
       "      <th>ViolationType</th>\n",
       "      <th>ViolationCategory</th>\n",
       "      <th>VehicleGroup</th>\n",
       "      <th>PersonalInjury</th>\n",
       "      <th>PropertyDamage</th>\n",
       "      <th>Fatal</th>\n",
       "      <th>ContributedToAccident</th>\n",
       "      <th>ViolationCount</th>\n",
       "    </tr>\n",
       "  </thead>\n",
       "  <tbody>\n",
       "    <tr>\n",
       "      <th>0</th>\n",
       "      <td>2012</td>\n",
       "      <td>4</td>\n",
       "      <td>12</td>\n",
       "      <td>Headquarters and Special Operations</td>\n",
       "      <td>8</td>\n",
       "      <td>Warning</td>\n",
       "      <td>Violation</td>\n",
       "      <td>Truck</td>\n",
       "      <td>1841.0</td>\n",
       "      <td>2667.0</td>\n",
       "      <td>30.0</td>\n",
       "      <td>3531.0</td>\n",
       "      <td>105895</td>\n",
       "    </tr>\n",
       "  </tbody>\n",
       "</table>\n",
       "</div>"
      ],
      "text/plain": [
       "   Year  Qtr  Month                            SubAgency  PoliceDistrictID  \\\n",
       "0  2012    4     12  Headquarters and Special Operations                 8   \n",
       "\n",
       "  ViolationType ViolationCategory VehicleGroup  PersonalInjury  \\\n",
       "0       Warning         Violation        Truck          1841.0   \n",
       "\n",
       "   PropertyDamage  Fatal  ContributedToAccident  ViolationCount  \n",
       "0          2667.0   30.0                 3531.0          105895  "
      ]
     },
     "execution_count": 243,
     "metadata": {},
     "output_type": "execute_result"
    }
   ],
   "source": [
    "filterData_main(2012, \"all\", 0)"
   ]
  },
  {
   "cell_type": "code",
   "execution_count": null,
   "metadata": {},
   "outputs": [],
   "source": []
  }
 ],
 "metadata": {
  "kernelspec": {
   "display_name": "Python 3",
   "language": "python",
   "name": "python3"
  },
  "language_info": {
   "codemirror_mode": {
    "name": "ipython",
    "version": 3
   },
   "file_extension": ".py",
   "mimetype": "text/x-python",
   "name": "python",
   "nbconvert_exporter": "python",
   "pygments_lexer": "ipython3",
   "version": "3.7.0"
  }
 },
 "nbformat": 4,
 "nbformat_minor": 2
}
