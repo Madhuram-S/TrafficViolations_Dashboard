{
 "cells": [
  {
   "cell_type": "code",
   "execution_count": 1,
   "metadata": {},
   "outputs": [],
   "source": [
    "# Import all dependencies\n",
    "import pandas as pd\n",
    "import numpy as np\n",
    "\n",
    "#SQLAlchemy libraries\n",
    "import sqlite3\n",
    "from sqlalchemy import create_engine # library to create the connection between DB and Python\n",
    "\n",
    "\n",
    "# Datetime libraries\n",
    "from datetime import datetime as dt, timedelta\n",
    "\n",
    "# library to read data from zipfile\n",
    "from zipfile import ZipFile as ZF\n",
    "import os\n",
    "\n",
    "# libraries to read json\n",
    "import json\n",
    "import requests\n",
    "from pandas.io.json import json_normalize\n"
   ]
  },
  {
   "cell_type": "code",
   "execution_count": 19,
   "metadata": {},
   "outputs": [],
   "source": [
    "# Declare global variables\n",
    "dbPath = \"trafficViolations/static/db\"\n",
    "\n",
    "dbName = \"trafficViolations.sqlite\"\n",
    "\n",
    "importDir = \"rawdata\"\n",
    "importFile = \"traffic-violations-in-usa.zip\"\n",
    "\n",
    "#columns name (after it is read onto pandas)\n",
    "df_col_names = ['DateOfStop', 'TimeOfStop', 'Agency', 'SubAgency', 'Description',\n",
    "       'Location', 'Latitude', 'Longitude', 'Accident', 'Belts',\n",
    "       'PersonalInjury', 'PropertyDamage', 'Fatal', 'CommercialLicense',\n",
    "       'HAZMAT', 'CommercialVehicle', 'Alcohol', 'WorkZone', 'State',\n",
    "       'VehicleType', 'Year', 'Make', 'Model', 'Color', 'ViolationType',\n",
    "       'Charge', 'Article', 'ContributedToAccident', 'Race', 'Gender',\n",
    "       'DriverCity', 'DriverState', 'DLState', 'ArrestType',\n",
    "       'Geolocation']\n",
    "\n",
    "violationCat = {\"Impaired\" : [\"ALCOHOL\",\"DRUGS\",\"ALCO\"],\n",
    "                \"Offense\" : [\"REGISTRATION\",\"LICENSE\",\"INSURANCE\",\"PLATE\",\"REG.PLATE\"],\n",
    "                \"Safety\":[\"UNSAFE\",\"SEATBELT\",\"HELMET\",\"EQUIP\",\"EQUIPMENT\",\"WINDSHIELD\",\"MIRRORS\",\"BRAKE\",\"INADEQUATE,INOPERATIVE\",\"OPERATING\"],\n",
    "                \"Violation\":[\"SPEEDING\",\"SPEED\",\"STOP\",\"PARKING\",\"FAILURE\",\"ELLUDE,LAMP,LAMPS\",\"DEVICE\",\"SIGNAL\",\"LIGHT\",\"LIGHTS\",\"AVOIDING\",\"AVOID\",\"INTERSECTION\"],\n",
    "                \"Distraction\":[\"HANDHELD\",\"MOBILE\",\"ELECTRONIC\",\"VIDEO\",\"EARPLUGS\",\"SOUND\",\"TEXT\",\"MSG.\"]\n",
    "                }\n",
    "\n",
    "vehicleGrp = {\n",
    "    \"Automobile\":[\"Automobile\",\"Limousine\",\"Station Wagon\"],\n",
    "\"Truck\":[\"Light Duty Truck\",\"Heavy Duty Truck\"],\n",
    "\"Motorcyle\":[\"Motorcycle\",\"Moped\"],\n",
    "\"Other\":[\"Recreational Vehicle\",\"Unknown\",\"Commercial Rig\",\"Camper\"],\n",
    "\"Bus\":[\"Transit Bus\",\"School Bus\",\"Cross Country Bus\"],\n",
    "\"FarmVehicle\":[\"Farm Vehicle\",\"Farm Equipment\"],\n",
    "\"Trailer\":[\"Utility Trailer\",\"Mobile Home\",\"Tandem Trailer\",\"Travel/Home Trailer\",\"Boat Trailer\"],\n",
    "\"RMS\":[\"Fire Vehicle\",\"Ambulance\",\"Police Vehicle\",\"Police(Emerg)\",\"Ambulance(Emerg)\",\"Ambulance(Non-Emerg)\",\"Police(Non-Emerg)\",\"Fire(Non-Emerg)\",\"Fire(Emerg)\"]\n",
    "}\n",
    "\n",
    "mnthToQtr = {1:1,2:1,3:1,4:2,5:2,6:2,7:3,8:3,9:3,10:4,11:4,12:4}\n",
    "\n",
    "# zipCode JSON file URL\n",
    "zipCd_URL = \"https://data.montgomerycountymd.gov/resource/mmib-2cgz.json\"\n",
    "\n",
    "#Police District JSON link\n",
    "police_dist_URL = \"https://data.montgomerycountymd.gov/resource/vxy6-ve2e.json\""
   ]
  },
  {
   "cell_type": "code",
   "execution_count": 8,
   "metadata": {},
   "outputs": [],
   "source": [
    "################ Global Helper Functions ###################################\n",
    "# Function to derive Violation category based on description\n",
    "# ensure violationCat dict is declared as global variable\n",
    "def assignViolationCat(desc):\n",
    "    for key,value in violationCat.items():\n",
    "    #     print(value)\n",
    "        if any(v in desc for v in value):\n",
    "            return key\n",
    "    else:\n",
    "        return \"Other\"\n",
    "\n",
    "def getPoliceDistrict(str):\n",
    "    return(str if(str != \"H\") else \"8\")\n",
    "\n",
    "def assignVehGrp(vehType):\n",
    "    for key,value in vehicleGrp.items():\n",
    "    #     print(value)\n",
    "        if any(v in vehType for v in value):\n",
    "            return key\n",
    "    else:\n",
    "        return \"Other\"\n",
    "    "
   ]
  },
  {
   "cell_type": "markdown",
   "metadata": {},
   "source": [
    "### Read csv data file and import into sqlite"
   ]
  },
  {
   "cell_type": "code",
   "execution_count": 9,
   "metadata": {},
   "outputs": [],
   "source": [
    "# Read accident data from all the zip files\n",
    "violationsDF = pd.concat(\\\n",
    "    [pd.read_csv(ZF(os.path.join(importDir,importFile)).open(\"Traffic_Violations.csv\"), low_memory=False, header = 0, names = df_col_names) \\\n",
    "     for file in os.listdir(importDir) \\\n",
    "     if file.endswith(\"zip\")], \\\n",
    "        ignore_index = True)"
   ]
  },
  {
   "cell_type": "code",
   "execution_count": 10,
   "metadata": {},
   "outputs": [
    {
     "data": {
      "text/html": [
       "<div>\n",
       "<style scoped>\n",
       "    .dataframe tbody tr th:only-of-type {\n",
       "        vertical-align: middle;\n",
       "    }\n",
       "\n",
       "    .dataframe tbody tr th {\n",
       "        vertical-align: top;\n",
       "    }\n",
       "\n",
       "    .dataframe thead th {\n",
       "        text-align: right;\n",
       "    }\n",
       "</style>\n",
       "<table border=\"1\" class=\"dataframe\">\n",
       "  <thead>\n",
       "    <tr style=\"text-align: right;\">\n",
       "      <th></th>\n",
       "      <th>DateOfStop</th>\n",
       "      <th>TimeOfStop</th>\n",
       "      <th>Agency</th>\n",
       "      <th>SubAgency</th>\n",
       "      <th>Description</th>\n",
       "      <th>Location</th>\n",
       "      <th>Latitude</th>\n",
       "      <th>Longitude</th>\n",
       "      <th>Accident</th>\n",
       "      <th>Belts</th>\n",
       "      <th>...</th>\n",
       "      <th>Charge</th>\n",
       "      <th>Article</th>\n",
       "      <th>ContributedToAccident</th>\n",
       "      <th>Race</th>\n",
       "      <th>Gender</th>\n",
       "      <th>DriverCity</th>\n",
       "      <th>DriverState</th>\n",
       "      <th>DLState</th>\n",
       "      <th>ArrestType</th>\n",
       "      <th>Geolocation</th>\n",
       "    </tr>\n",
       "  </thead>\n",
       "  <tbody>\n",
       "    <tr>\n",
       "      <th>0</th>\n",
       "      <td>09/24/2013</td>\n",
       "      <td>17:11:00</td>\n",
       "      <td>MCP</td>\n",
       "      <td>3rd district, Silver Spring</td>\n",
       "      <td>DRIVING VEHICLE ON HIGHWAY WITH SUSPENDED REGI...</td>\n",
       "      <td>8804 FLOWER AVE</td>\n",
       "      <td>NaN</td>\n",
       "      <td>NaN</td>\n",
       "      <td>No</td>\n",
       "      <td>No</td>\n",
       "      <td>...</td>\n",
       "      <td>13-401(h)</td>\n",
       "      <td>Transportation Article</td>\n",
       "      <td>No</td>\n",
       "      <td>BLACK</td>\n",
       "      <td>M</td>\n",
       "      <td>TAKOMA PARK</td>\n",
       "      <td>MD</td>\n",
       "      <td>MD</td>\n",
       "      <td>A - Marked Patrol</td>\n",
       "      <td>NaN</td>\n",
       "    </tr>\n",
       "    <tr>\n",
       "      <th>1</th>\n",
       "      <td>12/20/2012</td>\n",
       "      <td>00:41:00</td>\n",
       "      <td>MCP</td>\n",
       "      <td>2nd district, Bethesda</td>\n",
       "      <td>DRIVING WHILE IMPAIRED BY ALCOHOL</td>\n",
       "      <td>NORFOLK AVE /  ST ELMO AVE</td>\n",
       "      <td>38.983578</td>\n",
       "      <td>-77.093105</td>\n",
       "      <td>No</td>\n",
       "      <td>No</td>\n",
       "      <td>...</td>\n",
       "      <td>21-902(b1)</td>\n",
       "      <td>Transportation Article</td>\n",
       "      <td>No</td>\n",
       "      <td>WHITE</td>\n",
       "      <td>M</td>\n",
       "      <td>DERWOOD</td>\n",
       "      <td>MD</td>\n",
       "      <td>MD</td>\n",
       "      <td>A - Marked Patrol</td>\n",
       "      <td>(38.9835782, -77.09310515)</td>\n",
       "    </tr>\n",
       "  </tbody>\n",
       "</table>\n",
       "<p>2 rows × 35 columns</p>\n",
       "</div>"
      ],
      "text/plain": [
       "   DateOfStop TimeOfStop Agency                    SubAgency  \\\n",
       "0  09/24/2013   17:11:00    MCP  3rd district, Silver Spring   \n",
       "1  12/20/2012   00:41:00    MCP       2nd district, Bethesda   \n",
       "\n",
       "                                         Description  \\\n",
       "0  DRIVING VEHICLE ON HIGHWAY WITH SUSPENDED REGI...   \n",
       "1                  DRIVING WHILE IMPAIRED BY ALCOHOL   \n",
       "\n",
       "                     Location   Latitude  Longitude Accident Belts  \\\n",
       "0             8804 FLOWER AVE        NaN        NaN       No    No   \n",
       "1  NORFOLK AVE /  ST ELMO AVE  38.983578 -77.093105       No    No   \n",
       "\n",
       "              ...                  Charge                 Article  \\\n",
       "0             ...               13-401(h)  Transportation Article   \n",
       "1             ...              21-902(b1)  Transportation Article   \n",
       "\n",
       "  ContributedToAccident   Race Gender   DriverCity DriverState DLState  \\\n",
       "0                    No  BLACK      M  TAKOMA PARK          MD      MD   \n",
       "1                    No  WHITE      M      DERWOOD          MD      MD   \n",
       "\n",
       "          ArrestType                 Geolocation  \n",
       "0  A - Marked Patrol                         NaN  \n",
       "1  A - Marked Patrol  (38.9835782, -77.09310515)  \n",
       "\n",
       "[2 rows x 35 columns]"
      ]
     },
     "execution_count": 10,
     "metadata": {},
     "output_type": "execute_result"
    }
   ],
   "source": [
    "violationsDF.head(2)"
   ]
  },
  {
   "cell_type": "code",
   "execution_count": 11,
   "metadata": {},
   "outputs": [
    {
     "data": {
      "text/plain": [
       "Index(['DateOfStop', 'TimeOfStop', 'Agency', 'SubAgency', 'Description',\n",
       "       'Location', 'Latitude', 'Longitude', 'Accident', 'Belts',\n",
       "       'PersonalInjury', 'PropertyDamage', 'Fatal', 'CommercialLicense',\n",
       "       'HAZMAT', 'CommercialVehicle', 'Alcohol', 'WorkZone', 'State',\n",
       "       'VehicleType', 'Year', 'Make', 'Model', 'Color', 'ViolationType',\n",
       "       'Charge', 'Article', 'ContributedToAccident', 'Race', 'Gender',\n",
       "       'DriverCity', 'DriverState', 'DLState', 'ArrestType', 'Geolocation'],\n",
       "      dtype='object')"
      ]
     },
     "execution_count": 11,
     "metadata": {},
     "output_type": "execute_result"
    }
   ],
   "source": [
    "violationsDF.columns"
   ]
  },
  {
   "cell_type": "code",
   "execution_count": 12,
   "metadata": {},
   "outputs": [
    {
     "data": {
      "text/plain": [
       "Index(['DateOfStop', 'SubAgency', 'Description', 'PersonalInjury',\n",
       "       'PropertyDamage', 'Fatal', 'VehicleType', 'ViolationType',\n",
       "       'ContributedToAccident', 'DriverState'],\n",
       "      dtype='object')"
      ]
     },
     "execution_count": 12,
     "metadata": {},
     "output_type": "execute_result"
    }
   ],
   "source": [
    "dropCols = [\"TimeOfStop\",\"Agency\",\"Location\",\"Latitude\",\"Longitude\",\"Accident\",'Belts',\"CommercialLicense\",\\\n",
    "            \"HAZMAT\",'CommercialVehicle', 'Alcohol', 'WorkZone',\"State\",\"Year\",\"Make\",\"Model\",\"Color\",\"Charge\",\\\n",
    "            \"Article\",\"Race\",'Gender',\"DriverCity\",\"DLState\",\"ArrestType\",'Geolocation']\n",
    "\n",
    "violationsDF.drop(dropCols, axis = 1, inplace = True)\n",
    "violationsDF.columns"
   ]
  },
  {
   "cell_type": "code",
   "execution_count": 13,
   "metadata": {},
   "outputs": [
    {
     "data": {
      "text/plain": [
       "1018634"
      ]
     },
     "execution_count": 13,
     "metadata": {},
     "output_type": "execute_result"
    }
   ],
   "source": [
    "violationsDF[\"DateOfStop\"].count()"
   ]
  },
  {
   "cell_type": "code",
   "execution_count": 14,
   "metadata": {},
   "outputs": [
    {
     "data": {
      "text/plain": [
       "1018614"
      ]
     },
     "execution_count": 14,
     "metadata": {},
     "output_type": "execute_result"
    }
   ],
   "source": [
    "# clean the data\n",
    "# drop nas\n",
    "violationsDF = violationsDF.dropna(how = \"any\")\n",
    "violationsDF[\"DateOfStop\"].count()"
   ]
  },
  {
   "cell_type": "code",
   "execution_count": 15,
   "metadata": {},
   "outputs": [
    {
     "data": {
      "text/plain": [
       "0"
      ]
     },
     "execution_count": 15,
     "metadata": {},
     "output_type": "execute_result"
    }
   ],
   "source": [
    "dup_violations = violationsDF[violationsDF.duplicated()]\n",
    "violationsDF.drop_duplicates(inplace = True)\n",
    "violationsDF.duplicated().sum()"
   ]
  },
  {
   "cell_type": "code",
   "execution_count": 16,
   "metadata": {},
   "outputs": [
    {
     "data": {
      "text/html": [
       "<div>\n",
       "<style scoped>\n",
       "    .dataframe tbody tr th:only-of-type {\n",
       "        vertical-align: middle;\n",
       "    }\n",
       "\n",
       "    .dataframe tbody tr th {\n",
       "        vertical-align: top;\n",
       "    }\n",
       "\n",
       "    .dataframe thead th {\n",
       "        text-align: right;\n",
       "    }\n",
       "</style>\n",
       "<table border=\"1\" class=\"dataframe\">\n",
       "  <thead>\n",
       "    <tr style=\"text-align: right;\">\n",
       "      <th></th>\n",
       "      <th>DateOfStop</th>\n",
       "      <th>SubAgency</th>\n",
       "      <th>Description</th>\n",
       "      <th>PersonalInjury</th>\n",
       "      <th>PropertyDamage</th>\n",
       "      <th>Fatal</th>\n",
       "      <th>VehicleType</th>\n",
       "      <th>ViolationType</th>\n",
       "      <th>ContributedToAccident</th>\n",
       "      <th>DriverState</th>\n",
       "    </tr>\n",
       "  </thead>\n",
       "  <tbody>\n",
       "    <tr>\n",
       "      <th>0</th>\n",
       "      <td>09/24/2013</td>\n",
       "      <td>3rd district, Silver Spring</td>\n",
       "      <td>DRIVING VEHICLE ON HIGHWAY WITH SUSPENDED REGI...</td>\n",
       "      <td>False</td>\n",
       "      <td>False</td>\n",
       "      <td>False</td>\n",
       "      <td>02 - Automobile</td>\n",
       "      <td>Citation</td>\n",
       "      <td>False</td>\n",
       "      <td>MD</td>\n",
       "    </tr>\n",
       "    <tr>\n",
       "      <th>1</th>\n",
       "      <td>12/20/2012</td>\n",
       "      <td>2nd district, Bethesda</td>\n",
       "      <td>DRIVING WHILE IMPAIRED BY ALCOHOL</td>\n",
       "      <td>False</td>\n",
       "      <td>False</td>\n",
       "      <td>False</td>\n",
       "      <td>02 - Automobile</td>\n",
       "      <td>Citation</td>\n",
       "      <td>False</td>\n",
       "      <td>MD</td>\n",
       "    </tr>\n",
       "  </tbody>\n",
       "</table>\n",
       "</div>"
      ],
      "text/plain": [
       "   DateOfStop                    SubAgency  \\\n",
       "0  09/24/2013  3rd district, Silver Spring   \n",
       "1  12/20/2012       2nd district, Bethesda   \n",
       "\n",
       "                                         Description  PersonalInjury  \\\n",
       "0  DRIVING VEHICLE ON HIGHWAY WITH SUSPENDED REGI...           False   \n",
       "1                  DRIVING WHILE IMPAIRED BY ALCOHOL           False   \n",
       "\n",
       "   PropertyDamage  Fatal      VehicleType ViolationType  \\\n",
       "0           False  False  02 - Automobile      Citation   \n",
       "1           False  False  02 - Automobile      Citation   \n",
       "\n",
       "   ContributedToAccident DriverState  \n",
       "0                  False          MD  \n",
       "1                  False          MD  "
      ]
     },
     "execution_count": 16,
     "metadata": {},
     "output_type": "execute_result"
    }
   ],
   "source": [
    "#convert yes and no values to boolean (0, 1)\n",
    "factorCols = ['PersonalInjury', 'PropertyDamage', 'Fatal','ContributedToAccident']\n",
    "\n",
    "for f in factorCols:\n",
    "    violationsDF[f] = violationsDF[f].map({\"Yes\" : True, \"No\" : False})\n",
    "\n",
    "violationsDF.head(2)\n"
   ]
  },
  {
   "cell_type": "code",
   "execution_count": 17,
   "metadata": {},
   "outputs": [],
   "source": [
    "#convert Date of Stop and time of stop as Datatime objects\n",
    "violationsDF['DateOfStop'] = violationsDF['DateOfStop'].map(lambda r: dt.strptime(r, \"%m/%d/%Y\"))"
   ]
  },
  {
   "cell_type": "code",
   "execution_count": 20,
   "metadata": {},
   "outputs": [],
   "source": [
    "violationsDF['Year'] = violationsDF['DateOfStop'].apply(lambda r: r.year)\n",
    "violationsDF['Month'] = violationsDF['DateOfStop'].apply(lambda r: r.month)\n",
    "violationsDF['Qtr'] = violationsDF['Month'].apply(lambda r : mnthToQtr[r])"
   ]
  },
  {
   "cell_type": "code",
   "execution_count": 21,
   "metadata": {},
   "outputs": [
    {
     "data": {
      "text/plain": [
       "array(['Offense', 'Impaired', 'Violation', 'Distraction', 'Safety',\n",
       "       'Other'], dtype=object)"
      ]
     },
     "execution_count": 21,
     "metadata": {},
     "output_type": "execute_result"
    }
   ],
   "source": [
    "violationsDF['ViolationCategory'] = violationsDF.Description.map(lambda r: assignViolationCat(str(r)))\n",
    "violationsDF.ViolationCategory.unique()"
   ]
  },
  {
   "cell_type": "code",
   "execution_count": 22,
   "metadata": {},
   "outputs": [
    {
     "data": {
      "text/html": [
       "<div>\n",
       "<style scoped>\n",
       "    .dataframe tbody tr th:only-of-type {\n",
       "        vertical-align: middle;\n",
       "    }\n",
       "\n",
       "    .dataframe tbody tr th {\n",
       "        vertical-align: top;\n",
       "    }\n",
       "\n",
       "    .dataframe thead th {\n",
       "        text-align: right;\n",
       "    }\n",
       "</style>\n",
       "<table border=\"1\" class=\"dataframe\">\n",
       "  <thead>\n",
       "    <tr style=\"text-align: right;\">\n",
       "      <th></th>\n",
       "      <th>DateOfStop</th>\n",
       "      <th>SubAgency</th>\n",
       "      <th>Description</th>\n",
       "      <th>PersonalInjury</th>\n",
       "      <th>PropertyDamage</th>\n",
       "      <th>Fatal</th>\n",
       "      <th>VehicleType</th>\n",
       "      <th>ViolationType</th>\n",
       "      <th>ContributedToAccident</th>\n",
       "      <th>DriverState</th>\n",
       "      <th>Year</th>\n",
       "      <th>Month</th>\n",
       "      <th>Qtr</th>\n",
       "      <th>ViolationCategory</th>\n",
       "    </tr>\n",
       "  </thead>\n",
       "  <tbody>\n",
       "    <tr>\n",
       "      <th>0</th>\n",
       "      <td>2013-09-24</td>\n",
       "      <td>3rd district, Silver Spring</td>\n",
       "      <td>DRIVING VEHICLE ON HIGHWAY WITH SUSPENDED REGI...</td>\n",
       "      <td>False</td>\n",
       "      <td>False</td>\n",
       "      <td>False</td>\n",
       "      <td>02 - Automobile</td>\n",
       "      <td>Citation</td>\n",
       "      <td>False</td>\n",
       "      <td>MD</td>\n",
       "      <td>2013</td>\n",
       "      <td>9</td>\n",
       "      <td>3</td>\n",
       "      <td>Offense</td>\n",
       "    </tr>\n",
       "    <tr>\n",
       "      <th>1</th>\n",
       "      <td>2012-12-20</td>\n",
       "      <td>2nd district, Bethesda</td>\n",
       "      <td>DRIVING WHILE IMPAIRED BY ALCOHOL</td>\n",
       "      <td>False</td>\n",
       "      <td>False</td>\n",
       "      <td>False</td>\n",
       "      <td>02 - Automobile</td>\n",
       "      <td>Citation</td>\n",
       "      <td>False</td>\n",
       "      <td>MD</td>\n",
       "      <td>2012</td>\n",
       "      <td>12</td>\n",
       "      <td>4</td>\n",
       "      <td>Impaired</td>\n",
       "    </tr>\n",
       "  </tbody>\n",
       "</table>\n",
       "</div>"
      ],
      "text/plain": [
       "  DateOfStop                    SubAgency  \\\n",
       "0 2013-09-24  3rd district, Silver Spring   \n",
       "1 2012-12-20       2nd district, Bethesda   \n",
       "\n",
       "                                         Description  PersonalInjury  \\\n",
       "0  DRIVING VEHICLE ON HIGHWAY WITH SUSPENDED REGI...           False   \n",
       "1                  DRIVING WHILE IMPAIRED BY ALCOHOL           False   \n",
       "\n",
       "   PropertyDamage  Fatal      VehicleType ViolationType  \\\n",
       "0           False  False  02 - Automobile      Citation   \n",
       "1           False  False  02 - Automobile      Citation   \n",
       "\n",
       "   ContributedToAccident DriverState  Year  Month  Qtr ViolationCategory  \n",
       "0                  False          MD  2013      9    3           Offense  \n",
       "1                  False          MD  2012     12    4          Impaired  "
      ]
     },
     "execution_count": 22,
     "metadata": {},
     "output_type": "execute_result"
    }
   ],
   "source": [
    "violationsDF.head(2)"
   ]
  },
  {
   "cell_type": "code",
   "execution_count": 23,
   "metadata": {},
   "outputs": [],
   "source": [
    "# Add column for Police District based on SubAgency for GeoJSON mapping\n",
    "violationsDF['PoliceDistrictID'] = violationsDF.SubAgency.map(lambda r : getPoliceDistrict(r[0]))\n",
    "violationsDF.PoliceDistrictID = violationsDF.PoliceDistrictID.astype(int)"
   ]
  },
  {
   "cell_type": "code",
   "execution_count": 24,
   "metadata": {},
   "outputs": [
    {
     "data": {
      "text/plain": [
       "DateOfStop               datetime64[ns]\n",
       "SubAgency                        object\n",
       "Description                      object\n",
       "PersonalInjury                     bool\n",
       "PropertyDamage                     bool\n",
       "Fatal                              bool\n",
       "VehicleType                      object\n",
       "ViolationType                    object\n",
       "ContributedToAccident              bool\n",
       "DriverState                      object\n",
       "Year                              int64\n",
       "Month                             int64\n",
       "Qtr                               int64\n",
       "ViolationCategory                object\n",
       "PoliceDistrictID                  int32\n",
       "dtype: object"
      ]
     },
     "execution_count": 24,
     "metadata": {},
     "output_type": "execute_result"
    }
   ],
   "source": [
    "violationsDF.dtypes"
   ]
  },
  {
   "cell_type": "code",
   "execution_count": 25,
   "metadata": {},
   "outputs": [
    {
     "data": {
      "text/plain": [
       "Index(['DateOfStop', 'SubAgency', 'Description', 'PersonalInjury',\n",
       "       'PropertyDamage', 'Fatal', 'VehicleType', 'ViolationType',\n",
       "       'ContributedToAccident', 'DriverState', 'Year', 'Month', 'Qtr',\n",
       "       'ViolationCategory', 'PoliceDistrictID'],\n",
       "      dtype='object')"
      ]
     },
     "execution_count": 25,
     "metadata": {},
     "output_type": "execute_result"
    }
   ],
   "source": [
    "violationsDF.columns"
   ]
  },
  {
   "cell_type": "code",
   "execution_count": 26,
   "metadata": {},
   "outputs": [],
   "source": [
    "# write out to CSV\n",
    "violationsDF.to_csv(os.path.join(importDir,\"Traffic_Violations_cleaned.csv\"), index = False)"
   ]
  },
  {
   "cell_type": "markdown",
   "metadata": {},
   "source": [
    "### Alternate method - without Geolocation\n"
   ]
  },
  {
   "cell_type": "code",
   "execution_count": 28,
   "metadata": {},
   "outputs": [],
   "source": [
    "#Add a col called ViolationCount to sum the total violation while grouping\n",
    "violationsDF['ViolationCount'] = 1"
   ]
  },
  {
   "cell_type": "code",
   "execution_count": 27,
   "metadata": {},
   "outputs": [
    {
     "data": {
      "text/plain": [
       "0    Automobile\n",
       "1    Automobile\n",
       "2    Automobile\n",
       "3    Automobile\n",
       "4    Automobile\n",
       "Name: VehicleGroup, dtype: object"
      ]
     },
     "execution_count": 27,
     "metadata": {},
     "output_type": "execute_result"
    }
   ],
   "source": [
    "# Add vehicle group reducing the vehicletype grouping\n",
    "violationsDF['VehicleGroup'] = violationsDF.VehicleType.map(lambda r : assignVehGrp(str(r)))\n",
    "violationsDF['VehicleGroup'].head()"
   ]
  },
  {
   "cell_type": "code",
   "execution_count": 29,
   "metadata": {},
   "outputs": [
    {
     "data": {
      "text/plain": [
       "Index(['DateOfStop', 'SubAgency', 'Description', 'PersonalInjury',\n",
       "       'PropertyDamage', 'Fatal', 'VehicleType', 'ViolationType',\n",
       "       'ContributedToAccident', 'DriverState', 'Year', 'Month', 'Qtr',\n",
       "       'ViolationCategory', 'PoliceDistrictID', 'VehicleGroup',\n",
       "       'ViolationCount'],\n",
       "      dtype='object')"
      ]
     },
     "execution_count": 29,
     "metadata": {},
     "output_type": "execute_result"
    }
   ],
   "source": [
    "violationsDF.columns"
   ]
  },
  {
   "cell_type": "code",
   "execution_count": 33,
   "metadata": {},
   "outputs": [],
   "source": [
    "#Group the data by Year, Month, SubAgency, PoliceDistrictID, Gender, VehicleType, ViolationType,Driver State,\n",
    "# Geolocation, Violationcategory\n",
    "vDF_grp_alt = violationsDF[['SubAgency', 'PersonalInjury','PropertyDamage', 'Fatal', \\\n",
    "                        'VehicleGroup', 'ViolationType', 'ContributedToAccident', \\\n",
    "                         'Year', 'Month', 'Qtr','ViolationCategory','PoliceDistrictID', 'ViolationCount']].\\\n",
    "            groupby(['Year','Qtr','Month','SubAgency','PoliceDistrictID','ViolationType','ViolationCategory',\\\n",
    "                     'VehicleGroup']).agg(np.sum)\n",
    "\n",
    "vDF_grp_alt.reset_index(inplace = True)"
   ]
  },
  {
   "cell_type": "code",
   "execution_count": 34,
   "metadata": {},
   "outputs": [
    {
     "data": {
      "text/plain": [
       "Year                     17589\n",
       "Qtr                      17589\n",
       "Month                    17589\n",
       "SubAgency                17589\n",
       "PoliceDistrictID         17589\n",
       "ViolationType            17589\n",
       "ViolationCategory        17589\n",
       "VehicleGroup             17589\n",
       "PersonalInjury           17589\n",
       "PropertyDamage           17589\n",
       "Fatal                    17589\n",
       "ContributedToAccident    17589\n",
       "ViolationCount           17589\n",
       "dtype: int64"
      ]
     },
     "execution_count": 34,
     "metadata": {},
     "output_type": "execute_result"
    }
   ],
   "source": [
    "vDF_grp_alt.count()"
   ]
  },
  {
   "cell_type": "code",
   "execution_count": 35,
   "metadata": {},
   "outputs": [],
   "source": [
    "vDF_grp_alt.to_csv(os.path.join(importDir, \"Traffic_violations_grouped_new.csv\"), index = False)"
   ]
  },
  {
   "cell_type": "markdown",
   "metadata": {},
   "source": [
    "### Write to sqlite db"
   ]
  },
  {
   "cell_type": "code",
   "execution_count": 39,
   "metadata": {},
   "outputs": [],
   "source": [
    "#Create the table with ID column as primary key -IMPORTANT ELSE AUTOMAP_BASE will not work\n",
    "conn = sqlite3.connect(f'{dbPath}/{dbName}')\n",
    "c = conn.cursor()\n",
    "\n",
    "c.executescript('''\n",
    "    PRAGMA foreign_keys=off;\n",
    "\n",
    "    BEGIN TRANSACTION;\n",
    "    \n",
    "    /*create a new table with the same column names and types while\n",
    "    defining a primary key for the desired column*/\n",
    "    \n",
    "    CREATE TABLE `traffic_violations` (\n",
    "    `ID` BIGINT PRIMARY KEY NOT NULL,\n",
    "     `Year` BIGINT,\n",
    "     `Qtr` BIGINT,\n",
    "     `Month` BIGINT,     \n",
    "     `SubAgency` TEXT,\n",
    "     `PoliceDistrictID` BIGINT,\n",
    "     `ViolationType` TEXT,\n",
    "     `ViolationCategory` TEXT,\n",
    "     `VehicleGroup` TEXT,\n",
    "     `PersonalInjury` FLOAT,\n",
    "     `PropertyDamage` FLOAT,\n",
    "     `Fatal` FLOAT,\n",
    "     `ContributedToAccident` FLOAT,\n",
    "     `ViolationCount` BIGINT\n",
    "    );\n",
    "\n",
    "    COMMIT TRANSACTION;\n",
    "\n",
    "    PRAGMA foreign_keys=on;''')\n",
    "\n",
    "#close out the connection\n",
    "c.close()\n",
    "conn.close()"
   ]
  },
  {
   "cell_type": "code",
   "execution_count": 40,
   "metadata": {},
   "outputs": [
    {
     "name": "stdout",
     "output_type": "stream",
     "text": [
      "sqlite:///trafficViolations/static/db/trafficViolations.sqlite\n"
     ]
    }
   ],
   "source": [
    "engine = create_engine(f\"sqlite:///{dbPath}/{dbName}\", echo = True)\n",
    "print(f\"sqlite:///{dbPath}/{dbName}\")"
   ]
  },
  {
   "cell_type": "code",
   "execution_count": 41,
   "metadata": {},
   "outputs": [
    {
     "name": "stdout",
     "output_type": "stream",
     "text": [
      "2019-03-30 13:20:32,272 INFO sqlalchemy.engine.base.Engine SELECT CAST('test plain returns' AS VARCHAR(60)) AS anon_1\n",
      "2019-03-30 13:20:32,275 INFO sqlalchemy.engine.base.Engine ()\n",
      "2019-03-30 13:20:32,277 INFO sqlalchemy.engine.base.Engine SELECT CAST('test unicode returns' AS VARCHAR(60)) AS anon_1\n",
      "2019-03-30 13:20:32,278 INFO sqlalchemy.engine.base.Engine ()\n",
      "2019-03-30 13:20:32,280 INFO sqlalchemy.engine.base.Engine PRAGMA table_info(\"traffic_violations\")\n",
      "2019-03-30 13:20:32,281 INFO sqlalchemy.engine.base.Engine ()\n",
      "2019-03-30 13:20:32,302 INFO sqlalchemy.engine.base.Engine BEGIN (implicit)\n",
      "2019-03-30 13:20:32,674 INFO sqlalchemy.engine.base.Engine INSERT INTO traffic_violations (\"ID\", \"Year\", \"Qtr\", \"Month\", \"SubAgency\", \"PoliceDistrictID\", \"ViolationType\", \"ViolationCategory\", \"VehicleGroup\", \"PersonalInjury\", \"PropertyDamage\", \"Fatal\", \"ContributedToAccident\", \"ViolationCount\") VALUES (?, ?, ?, ?, ?, ?, ?, ?, ?, ?, ?, ?, ?, ?)\n",
      "2019-03-30 13:20:32,676 INFO sqlalchemy.engine.base.Engine ((0, 2012, 1, 1, '1st district, Rockville', 1, 'Citation', 'Distraction', 'Automobile', 0.0, 0.0, 0.0, 0.0, 5), (1, 2012, 1, 1, '1st district, Rockville', 1, 'Citation', 'Distraction', 'Truck', 0.0, 0.0, 0.0, 0.0, 1), (2, 2012, 1, 1, '1st district, Rockville', 1, 'Citation', 'Impaired', 'Automobile', 1.0, 0.0, 0.0, 4.0, 33), (3, 2012, 1, 1, '1st district, Rockville', 1, 'Citation', 'Offense', 'Automobile', 1.0, 0.0, 0.0, 1.0, 140), (4, 2012, 1, 1, '1st district, Rockville', 1, 'Citation', 'Offense', 'Motorcyle', 0.0, 0.0, 0.0, 0.0, 1), (5, 2012, 1, 1, '1st district, Rockville', 1, 'Citation', 'Offense', 'Other', 0.0, 0.0, 0.0, 0.0, 12), (6, 2012, 1, 1, '1st district, Rockville', 1, 'Citation', 'Offense', 'Truck', 0.0, 0.0, 0.0, 0.0, 9), (7, 2012, 1, 1, '1st district, Rockville', 1, 'Citation', 'Other', 'Automobile', 3.0, 1.0, 0.0, 5.0, 51)  ... displaying 10 of 17589 total bound parameter sets ...  (17587, 2016, 4, 12, 'Headquarters and Special Operations', 8, 'Warning', 'Violation', 'Motorcyle', 0.0, 0.0, 0.0, 0.0, 1), (17588, 2016, 4, 12, 'Headquarters and Special Operations', 8, 'Warning', 'Violation', 'Truck', 0.0, 0.0, 0.0, 0.0, 2))\n",
      "2019-03-30 13:20:32,791 INFO sqlalchemy.engine.base.Engine COMMIT\n"
     ]
    }
   ],
   "source": [
    "vDF_grp_alt.to_sql(\"traffic_violations\", engine, if_exists = \"append\", index = True, index_label = \"ID\")"
   ]
  },
  {
   "cell_type": "code",
   "execution_count": null,
   "metadata": {},
   "outputs": [],
   "source": []
  },
  {
   "cell_type": "code",
   "execution_count": null,
   "metadata": {},
   "outputs": [],
   "source": []
  }
 ],
 "metadata": {
  "kernelspec": {
   "display_name": "Python 3",
   "language": "python",
   "name": "python3"
  },
  "language_info": {
   "codemirror_mode": {
    "name": "ipython",
    "version": 3
   },
   "file_extension": ".py",
   "mimetype": "text/x-python",
   "name": "python",
   "nbconvert_exporter": "python",
   "pygments_lexer": "ipython3",
   "version": "3.7.0"
  }
 },
 "nbformat": 4,
 "nbformat_minor": 2
}
