{
 "cells": [
  {
   "cell_type": "code",
   "execution_count": 36,
   "metadata": {},
   "outputs": [],
   "source": [
    "import os\n",
    "\n",
    "import pandas as pd\n",
    "import numpy as np\n",
    "\n",
    "import sqlalchemy\n",
    "from sqlalchemy.ext.automap import automap_base\n",
    "from sqlalchemy.orm import Session\n",
    "from sqlalchemy import create_engine\n",
    "from sqlalchemy import func # library to use aggregate functions\n",
    "\n",
    "# libraries to read json\n",
    "import json\n",
    "import requests\n",
    "from pandas.io.json import json_normalize\n",
    "\n",
    "#from flask import Flask, jsonify, render_template\n",
    "#from flask_sqlalchemy import SQLAlchemy"
   ]
  },
  {
   "cell_type": "code",
   "execution_count": 50,
   "metadata": {},
   "outputs": [],
   "source": [
    "# Declare global variables\n",
    "dbPath = \"trafficViolations/static/db\"\n",
    "\n",
    "dbName = \"trafficViolations.sqlite\"\n",
    "\n",
    "# GEOJSON filename\n",
    "geojson_fname = \"geoLoc.json\"\n",
    "\n",
    "\n",
    "#Police District JSON link for district Polygon Coordinates\n",
    "police_dist_URL = \"https://data.montgomerycountymd.gov/resource/vxy6-ve2e.json\""
   ]
  },
  {
   "cell_type": "code",
   "execution_count": 47,
   "metadata": {},
   "outputs": [],
   "source": [
    "################### HELPER FUNCTIONS\n",
    "def readJSON(url):\n",
    "    # Extract JSON though requests.get()\n",
    "    try:\n",
    "        resp = requests.get(url)\n",
    "\n",
    "        #check if the status code is other 200 (ie. not successful request)\n",
    "        if(resp.status_code != 200):\n",
    "            raise HTTPError\n",
    "\n",
    "        # extract the JSON data\n",
    "        return resp.json()\n",
    "\n",
    "    except ConnectionError as c:\n",
    "        raise (\"Error in Connection :\" + e)\n",
    "\n",
    "    except HTTPError as h:\n",
    "        raise (\"Unsuccessful in obtaining JSON : \" + h)\n",
    "        \n",
    "\n",
    "# function that constructs the feature details for GEOJSON\n",
    "def genFeatureDict(info):\n",
    "    \n",
    "    f = {\n",
    "        \"type\" : \"Feature\",\n",
    "        \"geometry\":{\n",
    "            \"type\": info['the_geom.type'],\n",
    "            \"coordinates\": info['the_geom.coordinates']\n",
    "        },\n",
    "        \"properties\" : {\n",
    "            \"name\" : info['SubAgency'],\n",
    "            \"distID\" : info['PoliceDistrictID'],\n",
    "            \"total_traffic_violations\" : info['TotalViolations']\n",
    "        }\n",
    "    }\n",
    "    \n",
    "    return f\n",
    "    "
   ]
  },
  {
   "cell_type": "code",
   "execution_count": 16,
   "metadata": {},
   "outputs": [],
   "source": [
    "# create the connection to SQLite db\n",
    "eng = create_engine(f\"sqlite:///{dbPath}/{dbName}\")"
   ]
  },
  {
   "cell_type": "code",
   "execution_count": 17,
   "metadata": {},
   "outputs": [],
   "source": [
    "# reflect an existing database into a new model\n",
    "Base  = automap_base()\n",
    "\n",
    "#prepare and reflect all tables wih data\n",
    "Base.prepare(eng, reflect = True)"
   ]
  },
  {
   "cell_type": "code",
   "execution_count": 18,
   "metadata": {},
   "outputs": [
    {
     "name": "stdout",
     "output_type": "stream",
     "text": [
      "['traffic_violations']\n"
     ]
    }
   ],
   "source": [
    "print(Base.classes.keys())"
   ]
  },
  {
   "cell_type": "code",
   "execution_count": 22,
   "metadata": {},
   "outputs": [],
   "source": [
    "V = Base.classes['traffic_violations']"
   ]
  },
  {
   "cell_type": "code",
   "execution_count": 21,
   "metadata": {},
   "outputs": [],
   "source": [
    "# create session\n",
    "session = Session(bind = eng)"
   ]
  },
  {
   "cell_type": "code",
   "execution_count": 31,
   "metadata": {},
   "outputs": [],
   "source": [
    "# query the table and obtain the results for Total violations count at the Police district level\n",
    "\n",
    "resDF = pd.DataFrame(session.query(V.SubAgency, V.PoliceDistrictID, func.sum(V.ViolationCount)).\\\n",
    "                group_by(V.SubAgency, V.PoliceDistrictID).all(), columns = ['SubAgency','PoliceDistrictID','TotalViolations'])"
   ]
  },
  {
   "cell_type": "code",
   "execution_count": 39,
   "metadata": {},
   "outputs": [
    {
     "name": "stdout",
     "output_type": "stream",
     "text": [
      "SubAgency           object\n",
      "PoliceDistrictID     int64\n",
      "TotalViolations      int64\n",
      "dtype: object\n"
     ]
    },
    {
     "data": {
      "text/html": [
       "<div>\n",
       "<style scoped>\n",
       "    .dataframe tbody tr th:only-of-type {\n",
       "        vertical-align: middle;\n",
       "    }\n",
       "\n",
       "    .dataframe tbody tr th {\n",
       "        vertical-align: top;\n",
       "    }\n",
       "\n",
       "    .dataframe thead th {\n",
       "        text-align: right;\n",
       "    }\n",
       "</style>\n",
       "<table border=\"1\" class=\"dataframe\">\n",
       "  <thead>\n",
       "    <tr style=\"text-align: right;\">\n",
       "      <th></th>\n",
       "      <th>SubAgency</th>\n",
       "      <th>PoliceDistrictID</th>\n",
       "      <th>TotalViolations</th>\n",
       "    </tr>\n",
       "  </thead>\n",
       "  <tbody>\n",
       "    <tr>\n",
       "      <th>0</th>\n",
       "      <td>1st district, Rockville</td>\n",
       "      <td>1</td>\n",
       "      <td>108585</td>\n",
       "    </tr>\n",
       "    <tr>\n",
       "      <th>1</th>\n",
       "      <td>2nd district, Bethesda</td>\n",
       "      <td>2</td>\n",
       "      <td>132846</td>\n",
       "    </tr>\n",
       "    <tr>\n",
       "      <th>2</th>\n",
       "      <td>3rd district, Silver Spring</td>\n",
       "      <td>3</td>\n",
       "      <td>195723</td>\n",
       "    </tr>\n",
       "    <tr>\n",
       "      <th>3</th>\n",
       "      <td>4th district, Wheaton</td>\n",
       "      <td>4</td>\n",
       "      <td>226657</td>\n",
       "    </tr>\n",
       "    <tr>\n",
       "      <th>4</th>\n",
       "      <td>5th district, Germantown</td>\n",
       "      <td>5</td>\n",
       "      <td>98148</td>\n",
       "    </tr>\n",
       "    <tr>\n",
       "      <th>5</th>\n",
       "      <td>6th district, Gaithersburg / Montgomery Village</td>\n",
       "      <td>6</td>\n",
       "      <td>125278</td>\n",
       "    </tr>\n",
       "    <tr>\n",
       "      <th>6</th>\n",
       "      <td>Headquarters and Special Operations</td>\n",
       "      <td>8</td>\n",
       "      <td>31595</td>\n",
       "    </tr>\n",
       "  </tbody>\n",
       "</table>\n",
       "</div>"
      ],
      "text/plain": [
       "                                         SubAgency  PoliceDistrictID  \\\n",
       "0                          1st district, Rockville                 1   \n",
       "1                           2nd district, Bethesda                 2   \n",
       "2                      3rd district, Silver Spring                 3   \n",
       "3                            4th district, Wheaton                 4   \n",
       "4                         5th district, Germantown                 5   \n",
       "5  6th district, Gaithersburg / Montgomery Village                 6   \n",
       "6              Headquarters and Special Operations                 8   \n",
       "\n",
       "   TotalViolations  \n",
       "0           108585  \n",
       "1           132846  \n",
       "2           195723  \n",
       "3           226657  \n",
       "4            98148  \n",
       "5           125278  \n",
       "6            31595  "
      ]
     },
     "execution_count": 39,
     "metadata": {},
     "output_type": "execute_result"
    }
   ],
   "source": [
    "print(resDF.dtypes)\n",
    "resDF"
   ]
  },
  {
   "cell_type": "code",
   "execution_count": 40,
   "metadata": {},
   "outputs": [
    {
     "data": {
      "text/html": [
       "<div>\n",
       "<style scoped>\n",
       "    .dataframe tbody tr th:only-of-type {\n",
       "        vertical-align: middle;\n",
       "    }\n",
       "\n",
       "    .dataframe tbody tr th {\n",
       "        vertical-align: top;\n",
       "    }\n",
       "\n",
       "    .dataframe thead th {\n",
       "        text-align: right;\n",
       "    }\n",
       "</style>\n",
       "<table border=\"1\" class=\"dataframe\">\n",
       "  <thead>\n",
       "    <tr style=\"text-align: right;\">\n",
       "      <th></th>\n",
       "      <th>dist</th>\n",
       "      <th>objectid</th>\n",
       "      <th>shape_area</th>\n",
       "      <th>shape_len</th>\n",
       "      <th>the_geom.coordinates</th>\n",
       "      <th>the_geom.type</th>\n",
       "    </tr>\n",
       "  </thead>\n",
       "  <tbody>\n",
       "    <tr>\n",
       "      <th>0</th>\n",
       "      <td>2</td>\n",
       "      <td>2</td>\n",
       "      <td>1565751500.0392399</td>\n",
       "      <td>248658.77872303501</td>\n",
       "      <td>[[[[-77.1457618498, 39.037860378201], [-77.145...</td>\n",
       "      <td>MultiPolygon</td>\n",
       "    </tr>\n",
       "    <tr>\n",
       "      <th>1</th>\n",
       "      <td>1</td>\n",
       "      <td>1</td>\n",
       "      <td>4182813700.9215698</td>\n",
       "      <td>453658.95567368803</td>\n",
       "      <td>[[[[-77.187567669146, 39.110811579485], [-77.1...</td>\n",
       "      <td>MultiPolygon</td>\n",
       "    </tr>\n",
       "    <tr>\n",
       "      <th>2</th>\n",
       "      <td>4</td>\n",
       "      <td>4</td>\n",
       "      <td>2313490108.8321199</td>\n",
       "      <td>418565.068792495</td>\n",
       "      <td>[[[[-77.115896846336, 39.126723839894], [-77.1...</td>\n",
       "      <td>MultiPolygon</td>\n",
       "    </tr>\n",
       "    <tr>\n",
       "      <th>3</th>\n",
       "      <td>6</td>\n",
       "      <td>6</td>\n",
       "      <td>1133619164.7974</td>\n",
       "      <td>337359.39232825703</td>\n",
       "      <td>[[[[-77.246867924553, 39.175370078619], [-77.2...</td>\n",
       "      <td>MultiPolygon</td>\n",
       "    </tr>\n",
       "    <tr>\n",
       "      <th>4</th>\n",
       "      <td>8</td>\n",
       "      <td>7</td>\n",
       "      <td>58130070.020088799</td>\n",
       "      <td>44856.060693578394</td>\n",
       "      <td>[[[[-77.001499589417, 38.989799321823], [-77.0...</td>\n",
       "      <td>MultiPolygon</td>\n",
       "    </tr>\n",
       "  </tbody>\n",
       "</table>\n",
       "</div>"
      ],
      "text/plain": [
       "  dist objectid          shape_area           shape_len  \\\n",
       "0    2        2  1565751500.0392399  248658.77872303501   \n",
       "1    1        1  4182813700.9215698  453658.95567368803   \n",
       "2    4        4  2313490108.8321199    418565.068792495   \n",
       "3    6        6     1133619164.7974  337359.39232825703   \n",
       "4    8        7  58130070.020088799  44856.060693578394   \n",
       "\n",
       "                                the_geom.coordinates the_geom.type  \n",
       "0  [[[[-77.1457618498, 39.037860378201], [-77.145...  MultiPolygon  \n",
       "1  [[[[-77.187567669146, 39.110811579485], [-77.1...  MultiPolygon  \n",
       "2  [[[[-77.115896846336, 39.126723839894], [-77.1...  MultiPolygon  \n",
       "3  [[[[-77.246867924553, 39.175370078619], [-77.2...  MultiPolygon  \n",
       "4  [[[[-77.001499589417, 38.989799321823], [-77.0...  MultiPolygon  "
      ]
     },
     "execution_count": 40,
     "metadata": {},
     "output_type": "execute_result"
    }
   ],
   "source": [
    "# Request JSON file containing Police district's coordinates\n",
    "resp = readJSON(police_dist_URL)\n",
    "\n",
    "coordsDF = json_normalize(resp)\n",
    "\n",
    "coordsDF.head()"
   ]
  },
  {
   "cell_type": "code",
   "execution_count": 41,
   "metadata": {},
   "outputs": [],
   "source": [
    "#drop cols not necessary\n",
    "# only select the columns needed from the JSON on Police district\n",
    "coordsDF = coordsDF[['dist', 'the_geom.coordinates','the_geom.type']]\n",
    "\n",
    "coordsDF.rename(columns = {\"dist\" : \"PoliceDistrictID\"}, inplace = True)\n",
    "\n",
    "coordsDF.PoliceDistrictID = coordsDF.PoliceDistrictID.astype(int)"
   ]
  },
  {
   "cell_type": "code",
   "execution_count": 42,
   "metadata": {},
   "outputs": [
    {
     "data": {
      "text/html": [
       "<div>\n",
       "<style scoped>\n",
       "    .dataframe tbody tr th:only-of-type {\n",
       "        vertical-align: middle;\n",
       "    }\n",
       "\n",
       "    .dataframe tbody tr th {\n",
       "        vertical-align: top;\n",
       "    }\n",
       "\n",
       "    .dataframe thead th {\n",
       "        text-align: right;\n",
       "    }\n",
       "</style>\n",
       "<table border=\"1\" class=\"dataframe\">\n",
       "  <thead>\n",
       "    <tr style=\"text-align: right;\">\n",
       "      <th></th>\n",
       "      <th>SubAgency</th>\n",
       "      <th>PoliceDistrictID</th>\n",
       "      <th>TotalViolations</th>\n",
       "      <th>the_geom.coordinates</th>\n",
       "      <th>the_geom.type</th>\n",
       "    </tr>\n",
       "  </thead>\n",
       "  <tbody>\n",
       "    <tr>\n",
       "      <th>0</th>\n",
       "      <td>1st district, Rockville</td>\n",
       "      <td>1</td>\n",
       "      <td>108585</td>\n",
       "      <td>[[[[-77.187567669146, 39.110811579485], [-77.1...</td>\n",
       "      <td>MultiPolygon</td>\n",
       "    </tr>\n",
       "    <tr>\n",
       "      <th>1</th>\n",
       "      <td>2nd district, Bethesda</td>\n",
       "      <td>2</td>\n",
       "      <td>132846</td>\n",
       "      <td>[[[[-77.1457618498, 39.037860378201], [-77.145...</td>\n",
       "      <td>MultiPolygon</td>\n",
       "    </tr>\n",
       "    <tr>\n",
       "      <th>2</th>\n",
       "      <td>3rd district, Silver Spring</td>\n",
       "      <td>3</td>\n",
       "      <td>195723</td>\n",
       "      <td>[[[[-77.05481528585, 39.013802780305], [-77.05...</td>\n",
       "      <td>MultiPolygon</td>\n",
       "    </tr>\n",
       "    <tr>\n",
       "      <th>3</th>\n",
       "      <td>4th district, Wheaton</td>\n",
       "      <td>4</td>\n",
       "      <td>226657</td>\n",
       "      <td>[[[[-77.115896846336, 39.126723839894], [-77.1...</td>\n",
       "      <td>MultiPolygon</td>\n",
       "    </tr>\n",
       "    <tr>\n",
       "      <th>4</th>\n",
       "      <td>5th district, Germantown</td>\n",
       "      <td>5</td>\n",
       "      <td>98148</td>\n",
       "      <td>[[[[-77.255447065893, 39.313587822258], [-77.2...</td>\n",
       "      <td>MultiPolygon</td>\n",
       "    </tr>\n",
       "    <tr>\n",
       "      <th>5</th>\n",
       "      <td>6th district, Gaithersburg / Montgomery Village</td>\n",
       "      <td>6</td>\n",
       "      <td>125278</td>\n",
       "      <td>[[[[-77.246867924553, 39.175370078619], [-77.2...</td>\n",
       "      <td>MultiPolygon</td>\n",
       "    </tr>\n",
       "    <tr>\n",
       "      <th>6</th>\n",
       "      <td>Headquarters and Special Operations</td>\n",
       "      <td>8</td>\n",
       "      <td>31595</td>\n",
       "      <td>[[[[-77.001499589417, 38.989799321823], [-77.0...</td>\n",
       "      <td>MultiPolygon</td>\n",
       "    </tr>\n",
       "  </tbody>\n",
       "</table>\n",
       "</div>"
      ],
      "text/plain": [
       "                                         SubAgency  PoliceDistrictID  \\\n",
       "0                          1st district, Rockville                 1   \n",
       "1                           2nd district, Bethesda                 2   \n",
       "2                      3rd district, Silver Spring                 3   \n",
       "3                            4th district, Wheaton                 4   \n",
       "4                         5th district, Germantown                 5   \n",
       "5  6th district, Gaithersburg / Montgomery Village                 6   \n",
       "6              Headquarters and Special Operations                 8   \n",
       "\n",
       "   TotalViolations                               the_geom.coordinates  \\\n",
       "0           108585  [[[[-77.187567669146, 39.110811579485], [-77.1...   \n",
       "1           132846  [[[[-77.1457618498, 39.037860378201], [-77.145...   \n",
       "2           195723  [[[[-77.05481528585, 39.013802780305], [-77.05...   \n",
       "3           226657  [[[[-77.115896846336, 39.126723839894], [-77.1...   \n",
       "4            98148  [[[[-77.255447065893, 39.313587822258], [-77.2...   \n",
       "5           125278  [[[[-77.246867924553, 39.175370078619], [-77.2...   \n",
       "6            31595  [[[[-77.001499589417, 38.989799321823], [-77.0...   \n",
       "\n",
       "  the_geom.type  \n",
       "0  MultiPolygon  \n",
       "1  MultiPolygon  \n",
       "2  MultiPolygon  \n",
       "3  MultiPolygon  \n",
       "4  MultiPolygon  \n",
       "5  MultiPolygon  \n",
       "6  MultiPolygon  "
      ]
     },
     "execution_count": 42,
     "metadata": {},
     "output_type": "execute_result"
    }
   ],
   "source": [
    "# Merge SQLIte result DF and Coordinates DF\n",
    "coordsDF = pd.merge(resDF, coordsDF, on=\"PoliceDistrictID\", how = \"inner\")\n",
    "\n",
    "coordsDF"
   ]
  },
  {
   "cell_type": "code",
   "execution_count": 44,
   "metadata": {},
   "outputs": [
    {
     "data": {
      "text/plain": [
       "SubAgency               object\n",
       "PoliceDistrictID        object\n",
       "TotalViolations         object\n",
       "the_geom.coordinates    object\n",
       "the_geom.type           object\n",
       "dtype: object"
      ]
     },
     "execution_count": 44,
     "metadata": {},
     "output_type": "execute_result"
    }
   ],
   "source": [
    "#covert all values to string for easy json creation\n",
    "coordsDF[['PoliceDistrictID','TotalViolations']] = coordsDF[['PoliceDistrictID','TotalViolations']] .astype(str)\n",
    "\n",
    "\n",
    "coordsDF.dtypes"
   ]
  },
  {
   "cell_type": "code",
   "execution_count": 48,
   "metadata": {},
   "outputs": [],
   "source": [
    "# declare default structure of geoJSON\n",
    "map_geojson = {\n",
    "    \"type\": \"FeatureCollection\",\n",
    "    \"features\" : []\n",
    "}\n",
    "\n",
    "\n",
    "#construct the geoJSON features\n",
    "for i in range(0,coordsDF.index.size):\n",
    "    map_geojson['features'].append(genFeatureDict(coordsDF.iloc[i,]))"
   ]
  },
  {
   "cell_type": "code",
   "execution_count": 51,
   "metadata": {},
   "outputs": [],
   "source": [
    "# write file to disk\n",
    "with open(os.path.join(dbPath,geojson_fname), \"w\") as write_file:\n",
    "    json.dump(map_geojson, write_file)"
   ]
  },
  {
   "cell_type": "code",
   "execution_count": null,
   "metadata": {},
   "outputs": [],
   "source": []
  }
 ],
 "metadata": {
  "kernelspec": {
   "display_name": "Python 3",
   "language": "python",
   "name": "python3"
  },
  "language_info": {
   "codemirror_mode": {
    "name": "ipython",
    "version": 3
   },
   "file_extension": ".py",
   "mimetype": "text/x-python",
   "name": "python",
   "nbconvert_exporter": "python",
   "pygments_lexer": "ipython3",
   "version": "3.7.0"
  }
 },
 "nbformat": 4,
 "nbformat_minor": 2
}
